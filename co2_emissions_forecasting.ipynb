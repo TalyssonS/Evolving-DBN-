{
 "cells": [
  {
   "cell_type": "code",
   "execution_count": 1,
   "id": "7ddcb530",
   "metadata": {
    "ExecuteTime": {
     "end_time": "2022-09-02T04:10:05.882553Z",
     "start_time": "2022-09-02T04:10:03.862693Z"
    }
   },
   "outputs": [],
   "source": [
    "import DefModules as DM\n",
    "from datetime import datetime, timedelta\n",
    "FullOpt =  True\n",
    "from pgmpy.inference import VariableElimination\n",
    "import jupyter_contrib_nbextensions\n",
    "import random\n",
    "import warnings\n",
    "import sys \n",
    "import logging\n",
    "import pandas as pd\n",
    "import time\n",
    "import numpy as np\n",
    "import pickle\n",
    "from tqdm import tqdm\n",
    "import psycopg2 as pg\n",
    "import sqlalchemy as sq\n",
    "import networkx as nx\n",
    "logging.disable()\n",
    "if not sys.warnoptions:\n",
    "    warnings.simplefilter(\"ignore\")"
   ]
  },
  {
   "cell_type": "code",
   "execution_count": 2,
   "id": "2bfb8cf0",
   "metadata": {
    "ExecuteTime": {
     "end_time": "2022-09-02T04:10:05.890496Z",
     "start_time": "2022-09-02T04:10:05.884513Z"
    }
   },
   "outputs": [],
   "source": [
    "def open_connection():\n",
    "    '''\n",
    "    FUNCTION TO CONNECT TO THE POSTGRESQL DATABASE\n",
    "    '''\n",
    "    conn = pg.connect(dbname='postgres', user = 'postgres', password = 123, host = 'localhost')\n",
    "    return conn\n",
    "def get_connection():\n",
    "    '''\n",
    "    FUNCTION TO CONNECT TO THE POSTGRESQL DATABASE AND RETURN THE SQLACHEMY ENGINE OBJECT\n",
    "    -----------\n",
    "    output: object\n",
    "        SQLACHEMY ENGINE OBJECT - POSTGRESQL DATABASE CONNECTION\n",
    "    '''\n",
    "    user = 'postgres'\n",
    "    password = 123\n",
    "    host = 'localhost'\n",
    "    port = 5432\n",
    "    database = 'postgres'\n",
    "    return sq.create_engine(url=\"postgresql://{0}:{1}@{2}:{3}/{4}\".format(user, password, host, port, database))"
   ]
  },
  {
   "cell_type": "code",
   "execution_count": 3,
   "id": "c4bdb801",
   "metadata": {
    "ExecuteTime": {
     "end_time": "2022-09-02T04:10:05.979267Z",
     "start_time": "2022-09-02T04:10:05.892489Z"
    }
   },
   "outputs": [],
   "source": [
    "def blanket(model,variable):\n",
    "    '''\n",
    "    Function to extract the Markov Blanket of the target variable (reduces the structure)\n",
    "    -----------\n",
    "    input:\n",
    "    model: list\n",
    "        list of edges\n",
    "        \n",
    "    variable: str\n",
    "        name of the target variable\n",
    "        \n",
    "    output:\n",
    "    blanket: list\n",
    "        list of edges \n",
    "    '''\n",
    "    blanket=[]\n",
    "    sons=[]\n",
    "    for i in model:\n",
    "        if i[0]==variable or i[1]==variable:\n",
    "            blanket.append(i)\n",
    "        if i[0]==variable:\n",
    "            sons.append(i[1])\n",
    "    for i in model:\n",
    "        if i[1] in sons and i[0]!=variable:\n",
    "            blanket.append(i)\n",
    "    return blanket"
   ]
  },
  {
   "cell_type": "code",
   "execution_count": 4,
   "id": "58a8ca24",
   "metadata": {
    "ExecuteTime": {
     "end_time": "2022-09-02T04:10:06.066059Z",
     "start_time": "2022-09-02T04:10:05.981251Z"
    }
   },
   "outputs": [],
   "source": [
    "def verifica_remove_ciclos(edges):\n",
    "    '''\n",
    "    Function to verify if the edges is a DAG and to try remove cycles\n",
    "    -----------\n",
    "    input:\n",
    "    edges: list\n",
    "        list of edges\n",
    "                \n",
    "    output:\n",
    "    blanket: list\n",
    "        list of edges \n",
    "    '''\n",
    "    edgesdag = edges #recebe o próprio modelo\n",
    "    #Verifica se tem ciclos e tenta remover invertendo uma aresta\n",
    "    if ~nx.is_directed_acyclic_graph(nx.DiGraph(edgesdag[:])):\n",
    "        for i in edgesdag:  # (3) flip single edge\n",
    "            edges2 = edgesdag.copy()\n",
    "            edges2.extend([i[::-1]])\n",
    "            new_edges = edges2.copy()\n",
    "            new_edges.remove(i)\n",
    "            if nx.is_directed_acyclic_graph(nx.DiGraph(new_edges[:])):\n",
    "                edgesdag = new_edges.copy()\n",
    "                break\n",
    "    #Verifica se tem ciclos e tenta remover invertendo duas arestas\n",
    "    if ~nx.is_directed_acyclic_graph(nx.DiGraph(edgesdag[:])):\n",
    "        for i in edgesdag:\n",
    "            for j in edgesdag:# (3) flip two edges\n",
    "                if i != j:\n",
    "                    edges2 = edgesdag.copy()\n",
    "                    edges2.extend([i[::-1]])\n",
    "                    edges2.extend([j[::-1]])\n",
    "                    new_edges = edges2.copy()\n",
    "                    new_edges.remove(i)\n",
    "                    new_edges.remove(j)\n",
    "                    if nx.is_directed_acyclic_graph(nx.DiGraph(new_edges[:])):\n",
    "                        edgesdag = new_edges.copy()\n",
    "                        breaker = True\n",
    "                        break\n",
    "            if breaker:\n",
    "                break\n",
    "    #Verifica se tem ciclos e tenta remover invertendo uma aresta e excluindo uma aresta\n",
    "    if ~nx.is_directed_acyclic_graph(nx.DiGraph(edgesdag[:])):\n",
    "        for i in edgesdag:\n",
    "            for j in edgesdag:# (3) flip two edges\n",
    "                if i != j:\n",
    "                    edges2 = edgesdag.copy()\n",
    "                    edges2.extend([i[::-1]])\n",
    "                    new_edges = edges2.copy()\n",
    "                    new_edges.remove(i)\n",
    "                    new_edges.remove(j)\n",
    "                    if nx.is_directed_acyclic_graph(nx.DiGraph(new_edges[:])):\n",
    "                        edgesdag = new_edges.copy()\n",
    "                        breaker = True\n",
    "                        break\n",
    "            if breaker:\n",
    "                break\n",
    "    return edgesdag"
   ]
  },
  {
   "cell_type": "code",
   "execution_count": 5,
   "id": "72ae46b9",
   "metadata": {
    "ExecuteTime": {
     "end_time": "2022-09-02T04:10:06.172773Z",
     "start_time": "2022-09-02T04:10:06.067021Z"
    }
   },
   "outputs": [],
   "source": [
    "def get_all_dates(pais):\n",
    "    q = '''select distinct cast(\"Date\" as DATE) as datas from pre_processed_data.dbn_features_selected_{pais} order by datas'''.format(pais=pais)\n",
    "    conn = open_connection()\n",
    "    date = pd.read_sql(q,conn)\n",
    "    conn.close()\n",
    "    datas = date['datas'].tolist()\n",
    "    return datas"
   ]
  },
  {
   "cell_type": "code",
   "execution_count": 6,
   "id": "14512a36",
   "metadata": {
    "ExecuteTime": {
     "end_time": "2022-09-02T04:10:06.246586Z",
     "start_time": "2022-09-02T04:10:06.173746Z"
    }
   },
   "outputs": [],
   "source": [
    "def get_dataset(pais,date_ini, date_fin):\n",
    "    q = '''select * \n",
    "    from pre_processed_data.dbn_features_selected_{pais} where \"Date\" between '{date_ini}' and '{date_fin}' '''.format(pais=pais,date_ini=date_ini,date_fin=date_fin)\n",
    "    conn = open_connection()\n",
    "    dataset = pd.read_sql(q,conn)\n",
    "    conn.close()\n",
    "    return dataset"
   ]
  },
  {
   "cell_type": "code",
   "execution_count": 7,
   "id": "2ee80a3d",
   "metadata": {
    "ExecuteTime": {
     "end_time": "2022-09-02T04:10:06.320346Z",
     "start_time": "2022-09-02T04:10:06.247539Z"
    }
   },
   "outputs": [],
   "source": [
    "def update_edges_frequencies(best_model, edges_possibilities, edges_frequency):\n",
    "    if not edges_possibilities:\n",
    "        edges_possibilities = best_model\n",
    "        for p in range(len(edges_possibilities)):\n",
    "            edges_frequency.append(1)\n",
    "    else:\n",
    "        for v in range(len(best_model)):\n",
    "            if best_model[v] not in edges_possibilities:\n",
    "                edges_possibilities.append(best_model[v])\n",
    "                edges_frequency.append(1)\n",
    "            else:\n",
    "                for f in range(len(edges_possibilities)):\n",
    "                    if best_model[v] == edges_possibilities[f]:\n",
    "                        edges_frequency[f]=edges_frequency[f]+1\n",
    "    return edges_possibilities, edges_frequency"
   ]
  },
  {
   "cell_type": "code",
   "execution_count": 44,
   "id": "f51593db",
   "metadata": {
    "ExecuteTime": {
     "end_time": "2022-09-05T01:49:35.189602Z",
     "start_time": "2022-09-05T01:49:35.177635Z"
    }
   },
   "outputs": [],
   "source": [
    "def update_threshold_select_edges(k, edges_possibilities, edges_frequency):\n",
    "    fth = 1/3+np.sqrt(2/k)\n",
    "    if fth>0.4:\n",
    "        fth=0.4\n",
    "    edges_frequency_v=[edges_frequency[i]/k for i in range(len(edges_frequency))]\n",
    "    edges=[]\n",
    "    for i in range(len(edges_possibilities)):\n",
    "        if edges_frequency_v[i]>=fth and edges_possibilities[i] not in edges:\n",
    "            if edges_possibilities[i][::-1] not in edges_possibilities:\n",
    "                edges.append(edges_possibilities[i])\n",
    "            else: \n",
    "                if edges_frequency_v[i] > edges_frequency_v[edges_possibilities.index(edges_possibilities[i][::-1])]:\n",
    "                    edges.append(edges_possibilities[i])\n",
    "                else: \n",
    "                    edges.append(edges_possibilities[i][::-1])\n",
    "        elif edges_frequency_v[i]<fth:\n",
    "            for j in range(len(edges_possibilities)):\n",
    "                if edges_possibilities[i]==edges_possibilities[j][::-1]:\n",
    "                    if edges_frequency_v[i]+edges_frequency_v[j]>=fth:\n",
    "                        if edges_frequency_v[i]>edges_frequency_v[j]:\n",
    "                            edges.append(edges_possibilities[i])\n",
    "                        if edges_frequency_v[i]<edges_frequency_v[j]:\n",
    "                            edges.append(edges_possibilities[j])\n",
    "                        if edges_frequency_v[i]==edges_frequency_v[j]:\n",
    "                            auxci=0\n",
    "                            auxcj=0\n",
    "                            for s in range(len(edges)):\n",
    "                                if edges[s]==edges_possibilities[i]:\n",
    "                                    auxci=auxci+1\n",
    "                                if edges[s]==edges_possibilities[j]:\n",
    "                                    auxcj=auxcj+1\n",
    "                            if auxci>0:\n",
    "                                edges.append(edges_possibilities[i])\n",
    "                            elif auxcj>0:\n",
    "                                edges.append(edges_possibilities[j])\n",
    "                            else: \n",
    "                                import random\n",
    "                                edges.append(random.choice([edges_possibilities[i],edges_possibilities[j]]))\n",
    "    edges = list(set(edges))\n",
    "    return edges"
   ]
  },
  {
   "cell_type": "code",
   "execution_count": 9,
   "id": "57e6a10b",
   "metadata": {
    "ExecuteTime": {
     "end_time": "2022-09-02T04:10:06.468983Z",
     "start_time": "2022-09-02T04:10:06.396175Z"
    }
   },
   "outputs": [],
   "source": [
    "def main(pais):\n",
    "    #initialize auxiliary variables\n",
    "    k=1 #total days used\n",
    "    target_variable = 'Emission'\n",
    "    edges_possibilities = []\n",
    "    edges_frequency = []\n",
    "    timemodel = []\n",
    "    timeinference = []\n",
    "    \n",
    "    #read all available dates\n",
    "    dates = get_all_dates(pais)\n",
    "    \n",
    "    #begin the forecast experiment\n",
    "    for i in tqdm(dates[0:3]):\n",
    "        #dataset to learn the model\n",
    "        data_learn = get_dataset(pais,i, i+timedelta(days = 0))\n",
    "        #structural learning with the dataset of day i\n",
    "        data_learn.drop(['Date','Hour'], axis = 1, inplace = True)\n",
    "        ti = time.time()\n",
    "        best_model = DM.EdgesModel(data_learn, FullOpt)[0]\n",
    "        \n",
    "        #get the markov blanket\n",
    "        best_model = blanket(best_model, target_variable)\n",
    "        \n",
    "        #update the edges frequencies\n",
    "        edges_possibilities, edges_frequency = update_edges_frequencies(best_model, edges_possibilities, edges_frequency)\n",
    "        \n",
    "        #update threshold and select the edges\n",
    "        edges = update_threshold_select_edges(k, edges_possibilities, edges_frequency)\n",
    "        \n",
    "        tf = time.time()\n",
    "        timemodel.append(tf-ti)\n",
    "        #forecast initial in day 8 (fit from 01 until 07)\n",
    "        if i >= dates[6]:\n",
    "            #fit dataset (last 7 days)\n",
    "            data_fit = get_dataset(pais,i-timedelta(days = 6), i)\n",
    "            \n",
    "            #predict data of the entire day\n",
    "            predict_data_day = get_dataset(pais,i+timedelta(days = 1), i+timedelta(days = 1))\n",
    "            \n",
    "        k = k+1\n",
    "            \n",
    "    return edges_possibilities, edges_frequency, k, timemodel    "
   ]
  },
  {
   "cell_type": "code",
   "execution_count": 49,
   "id": "e2c4392d",
   "metadata": {
    "ExecuteTime": {
     "end_time": "2022-09-05T02:10:21.690098Z",
     "start_time": "2022-09-05T02:10:21.430331Z"
    }
   },
   "outputs": [],
   "source": [
    "dates = dates = get_all_dates('alemanha')\n",
    "i = dates[6]\n",
    "predict_data_day = get_dataset('alemanha',i+timedelta(days = 1), i+timedelta(days = 1))"
   ]
  },
  {
   "cell_type": "code",
   "execution_count": 51,
   "id": "4d552e81",
   "metadata": {
    "ExecuteTime": {
     "end_time": "2022-09-05T02:10:44.126474Z",
     "start_time": "2022-09-05T02:10:44.121499Z"
    }
   },
   "outputs": [
    {
     "data": {
      "text/plain": [
       "datetime.date(2019, 1, 7)"
      ]
     },
     "execution_count": 51,
     "metadata": {},
     "output_type": "execute_result"
    }
   ],
   "source": [
    "i"
   ]
  },
  {
   "cell_type": "code",
   "execution_count": 50,
   "id": "8e373325",
   "metadata": {
    "ExecuteTime": {
     "end_time": "2022-09-05T02:10:29.710159Z",
     "start_time": "2022-09-05T02:10:29.688199Z"
    }
   },
   "outputs": [
    {
     "data": {
      "text/html": [
       "<div>\n",
       "<style scoped>\n",
       "    .dataframe tbody tr th:only-of-type {\n",
       "        vertical-align: middle;\n",
       "    }\n",
       "\n",
       "    .dataframe tbody tr th {\n",
       "        vertical-align: top;\n",
       "    }\n",
       "\n",
       "    .dataframe thead th {\n",
       "        text-align: right;\n",
       "    }\n",
       "</style>\n",
       "<table border=\"1\" class=\"dataframe\">\n",
       "  <thead>\n",
       "    <tr style=\"text-align: right;\">\n",
       "      <th></th>\n",
       "      <th>Date</th>\n",
       "      <th>Hour</th>\n",
       "      <th>Emission</th>\n",
       "      <th>Emission-1</th>\n",
       "      <th>Lignite</th>\n",
       "      <th>Lignite-1</th>\n",
       "      <th>Hard coal</th>\n",
       "      <th>Hard coal-1</th>\n",
       "      <th>W. Onshore</th>\n",
       "      <th>Fossil Gas</th>\n",
       "      <th>W. Onshore-1</th>\n",
       "      <th>Fossil Gas-1</th>\n",
       "      <th>Nuclear</th>\n",
       "      <th>Nuclear-1</th>\n",
       "      <th>Solar</th>\n",
       "      <th>W. Offshore</th>\n",
       "      <th>W. Offshore-1</th>\n",
       "    </tr>\n",
       "  </thead>\n",
       "  <tbody>\n",
       "    <tr>\n",
       "      <th>0</th>\n",
       "      <td>2019-01-08</td>\n",
       "      <td>0</td>\n",
       "      <td>6</td>\n",
       "      <td>9</td>\n",
       "      <td>9</td>\n",
       "      <td>15</td>\n",
       "      <td>5</td>\n",
       "      <td>12</td>\n",
       "      <td>30</td>\n",
       "      <td>6</td>\n",
       "      <td>29</td>\n",
       "      <td>11</td>\n",
       "      <td>31</td>\n",
       "      <td>34</td>\n",
       "      <td>0</td>\n",
       "      <td>14</td>\n",
       "      <td>16</td>\n",
       "    </tr>\n",
       "    <tr>\n",
       "      <th>1</th>\n",
       "      <td>2019-01-08</td>\n",
       "      <td>1</td>\n",
       "      <td>5</td>\n",
       "      <td>8</td>\n",
       "      <td>9</td>\n",
       "      <td>11</td>\n",
       "      <td>5</td>\n",
       "      <td>9</td>\n",
       "      <td>30</td>\n",
       "      <td>6</td>\n",
       "      <td>29</td>\n",
       "      <td>10</td>\n",
       "      <td>33</td>\n",
       "      <td>34</td>\n",
       "      <td>0</td>\n",
       "      <td>14</td>\n",
       "      <td>15</td>\n",
       "    </tr>\n",
       "    <tr>\n",
       "      <th>2</th>\n",
       "      <td>2019-01-08</td>\n",
       "      <td>2</td>\n",
       "      <td>5</td>\n",
       "      <td>7</td>\n",
       "      <td>9</td>\n",
       "      <td>10</td>\n",
       "      <td>5</td>\n",
       "      <td>6</td>\n",
       "      <td>30</td>\n",
       "      <td>6</td>\n",
       "      <td>30</td>\n",
       "      <td>9</td>\n",
       "      <td>32</td>\n",
       "      <td>34</td>\n",
       "      <td>0</td>\n",
       "      <td>14</td>\n",
       "      <td>15</td>\n",
       "    </tr>\n",
       "    <tr>\n",
       "      <th>3</th>\n",
       "      <td>2019-01-08</td>\n",
       "      <td>3</td>\n",
       "      <td>5</td>\n",
       "      <td>6</td>\n",
       "      <td>9</td>\n",
       "      <td>9</td>\n",
       "      <td>5</td>\n",
       "      <td>5</td>\n",
       "      <td>30</td>\n",
       "      <td>6</td>\n",
       "      <td>30</td>\n",
       "      <td>6</td>\n",
       "      <td>33</td>\n",
       "      <td>31</td>\n",
       "      <td>0</td>\n",
       "      <td>14</td>\n",
       "      <td>14</td>\n",
       "    </tr>\n",
       "    <tr>\n",
       "      <th>4</th>\n",
       "      <td>2019-01-08</td>\n",
       "      <td>4</td>\n",
       "      <td>6</td>\n",
       "      <td>5</td>\n",
       "      <td>9</td>\n",
       "      <td>9</td>\n",
       "      <td>5</td>\n",
       "      <td>5</td>\n",
       "      <td>30</td>\n",
       "      <td>7</td>\n",
       "      <td>30</td>\n",
       "      <td>6</td>\n",
       "      <td>33</td>\n",
       "      <td>33</td>\n",
       "      <td>0</td>\n",
       "      <td>13</td>\n",
       "      <td>14</td>\n",
       "    </tr>\n",
       "    <tr>\n",
       "      <th>5</th>\n",
       "      <td>2019-01-08</td>\n",
       "      <td>5</td>\n",
       "      <td>6</td>\n",
       "      <td>5</td>\n",
       "      <td>10</td>\n",
       "      <td>9</td>\n",
       "      <td>6</td>\n",
       "      <td>5</td>\n",
       "      <td>30</td>\n",
       "      <td>8</td>\n",
       "      <td>30</td>\n",
       "      <td>6</td>\n",
       "      <td>34</td>\n",
       "      <td>32</td>\n",
       "      <td>0</td>\n",
       "      <td>12</td>\n",
       "      <td>14</td>\n",
       "    </tr>\n",
       "    <tr>\n",
       "      <th>6</th>\n",
       "      <td>2019-01-08</td>\n",
       "      <td>6</td>\n",
       "      <td>7</td>\n",
       "      <td>5</td>\n",
       "      <td>11</td>\n",
       "      <td>9</td>\n",
       "      <td>9</td>\n",
       "      <td>5</td>\n",
       "      <td>32</td>\n",
       "      <td>10</td>\n",
       "      <td>30</td>\n",
       "      <td>6</td>\n",
       "      <td>34</td>\n",
       "      <td>33</td>\n",
       "      <td>0</td>\n",
       "      <td>12</td>\n",
       "      <td>14</td>\n",
       "    </tr>\n",
       "    <tr>\n",
       "      <th>7</th>\n",
       "      <td>2019-01-08</td>\n",
       "      <td>7</td>\n",
       "      <td>8</td>\n",
       "      <td>6</td>\n",
       "      <td>14</td>\n",
       "      <td>9</td>\n",
       "      <td>10</td>\n",
       "      <td>5</td>\n",
       "      <td>33</td>\n",
       "      <td>11</td>\n",
       "      <td>30</td>\n",
       "      <td>7</td>\n",
       "      <td>34</td>\n",
       "      <td>33</td>\n",
       "      <td>0</td>\n",
       "      <td>11</td>\n",
       "      <td>13</td>\n",
       "    </tr>\n",
       "    <tr>\n",
       "      <th>8</th>\n",
       "      <td>2019-01-08</td>\n",
       "      <td>8</td>\n",
       "      <td>9</td>\n",
       "      <td>6</td>\n",
       "      <td>16</td>\n",
       "      <td>10</td>\n",
       "      <td>11</td>\n",
       "      <td>6</td>\n",
       "      <td>33</td>\n",
       "      <td>12</td>\n",
       "      <td>30</td>\n",
       "      <td>8</td>\n",
       "      <td>34</td>\n",
       "      <td>34</td>\n",
       "      <td>0</td>\n",
       "      <td>10</td>\n",
       "      <td>12</td>\n",
       "    </tr>\n",
       "    <tr>\n",
       "      <th>9</th>\n",
       "      <td>2019-01-08</td>\n",
       "      <td>9</td>\n",
       "      <td>8</td>\n",
       "      <td>7</td>\n",
       "      <td>16</td>\n",
       "      <td>11</td>\n",
       "      <td>10</td>\n",
       "      <td>9</td>\n",
       "      <td>34</td>\n",
       "      <td>12</td>\n",
       "      <td>32</td>\n",
       "      <td>10</td>\n",
       "      <td>34</td>\n",
       "      <td>34</td>\n",
       "      <td>0</td>\n",
       "      <td>12</td>\n",
       "      <td>12</td>\n",
       "    </tr>\n",
       "    <tr>\n",
       "      <th>10</th>\n",
       "      <td>2019-01-08</td>\n",
       "      <td>10</td>\n",
       "      <td>8</td>\n",
       "      <td>8</td>\n",
       "      <td>15</td>\n",
       "      <td>14</td>\n",
       "      <td>9</td>\n",
       "      <td>10</td>\n",
       "      <td>34</td>\n",
       "      <td>12</td>\n",
       "      <td>33</td>\n",
       "      <td>11</td>\n",
       "      <td>33</td>\n",
       "      <td>34</td>\n",
       "      <td>1</td>\n",
       "      <td>14</td>\n",
       "      <td>11</td>\n",
       "    </tr>\n",
       "    <tr>\n",
       "      <th>11</th>\n",
       "      <td>2019-01-08</td>\n",
       "      <td>11</td>\n",
       "      <td>8</td>\n",
       "      <td>9</td>\n",
       "      <td>15</td>\n",
       "      <td>16</td>\n",
       "      <td>9</td>\n",
       "      <td>11</td>\n",
       "      <td>34</td>\n",
       "      <td>12</td>\n",
       "      <td>33</td>\n",
       "      <td>12</td>\n",
       "      <td>33</td>\n",
       "      <td>34</td>\n",
       "      <td>2</td>\n",
       "      <td>14</td>\n",
       "      <td>10</td>\n",
       "    </tr>\n",
       "    <tr>\n",
       "      <th>12</th>\n",
       "      <td>2019-01-08</td>\n",
       "      <td>12</td>\n",
       "      <td>7</td>\n",
       "      <td>8</td>\n",
       "      <td>14</td>\n",
       "      <td>16</td>\n",
       "      <td>9</td>\n",
       "      <td>10</td>\n",
       "      <td>34</td>\n",
       "      <td>12</td>\n",
       "      <td>34</td>\n",
       "      <td>12</td>\n",
       "      <td>33</td>\n",
       "      <td>34</td>\n",
       "      <td>3</td>\n",
       "      <td>14</td>\n",
       "      <td>12</td>\n",
       "    </tr>\n",
       "    <tr>\n",
       "      <th>13</th>\n",
       "      <td>2019-01-08</td>\n",
       "      <td>13</td>\n",
       "      <td>7</td>\n",
       "      <td>8</td>\n",
       "      <td>13</td>\n",
       "      <td>15</td>\n",
       "      <td>9</td>\n",
       "      <td>9</td>\n",
       "      <td>34</td>\n",
       "      <td>12</td>\n",
       "      <td>34</td>\n",
       "      <td>12</td>\n",
       "      <td>34</td>\n",
       "      <td>33</td>\n",
       "      <td>2</td>\n",
       "      <td>15</td>\n",
       "      <td>14</td>\n",
       "    </tr>\n",
       "    <tr>\n",
       "      <th>14</th>\n",
       "      <td>2019-01-08</td>\n",
       "      <td>14</td>\n",
       "      <td>7</td>\n",
       "      <td>8</td>\n",
       "      <td>13</td>\n",
       "      <td>15</td>\n",
       "      <td>9</td>\n",
       "      <td>9</td>\n",
       "      <td>33</td>\n",
       "      <td>12</td>\n",
       "      <td>34</td>\n",
       "      <td>12</td>\n",
       "      <td>34</td>\n",
       "      <td>33</td>\n",
       "      <td>1</td>\n",
       "      <td>17</td>\n",
       "      <td>14</td>\n",
       "    </tr>\n",
       "    <tr>\n",
       "      <th>15</th>\n",
       "      <td>2019-01-08</td>\n",
       "      <td>15</td>\n",
       "      <td>8</td>\n",
       "      <td>7</td>\n",
       "      <td>14</td>\n",
       "      <td>14</td>\n",
       "      <td>10</td>\n",
       "      <td>9</td>\n",
       "      <td>33</td>\n",
       "      <td>12</td>\n",
       "      <td>34</td>\n",
       "      <td>12</td>\n",
       "      <td>34</td>\n",
       "      <td>33</td>\n",
       "      <td>0</td>\n",
       "      <td>18</td>\n",
       "      <td>14</td>\n",
       "    </tr>\n",
       "    <tr>\n",
       "      <th>16</th>\n",
       "      <td>2019-01-08</td>\n",
       "      <td>16</td>\n",
       "      <td>8</td>\n",
       "      <td>7</td>\n",
       "      <td>14</td>\n",
       "      <td>13</td>\n",
       "      <td>10</td>\n",
       "      <td>9</td>\n",
       "      <td>34</td>\n",
       "      <td>12</td>\n",
       "      <td>34</td>\n",
       "      <td>12</td>\n",
       "      <td>34</td>\n",
       "      <td>34</td>\n",
       "      <td>0</td>\n",
       "      <td>17</td>\n",
       "      <td>15</td>\n",
       "    </tr>\n",
       "    <tr>\n",
       "      <th>17</th>\n",
       "      <td>2019-01-08</td>\n",
       "      <td>17</td>\n",
       "      <td>8</td>\n",
       "      <td>7</td>\n",
       "      <td>15</td>\n",
       "      <td>13</td>\n",
       "      <td>9</td>\n",
       "      <td>9</td>\n",
       "      <td>34</td>\n",
       "      <td>12</td>\n",
       "      <td>33</td>\n",
       "      <td>12</td>\n",
       "      <td>34</td>\n",
       "      <td>34</td>\n",
       "      <td>0</td>\n",
       "      <td>17</td>\n",
       "      <td>17</td>\n",
       "    </tr>\n",
       "    <tr>\n",
       "      <th>18</th>\n",
       "      <td>2019-01-08</td>\n",
       "      <td>18</td>\n",
       "      <td>8</td>\n",
       "      <td>8</td>\n",
       "      <td>15</td>\n",
       "      <td>14</td>\n",
       "      <td>10</td>\n",
       "      <td>10</td>\n",
       "      <td>33</td>\n",
       "      <td>12</td>\n",
       "      <td>33</td>\n",
       "      <td>12</td>\n",
       "      <td>34</td>\n",
       "      <td>34</td>\n",
       "      <td>0</td>\n",
       "      <td>18</td>\n",
       "      <td>18</td>\n",
       "    </tr>\n",
       "    <tr>\n",
       "      <th>19</th>\n",
       "      <td>2019-01-08</td>\n",
       "      <td>19</td>\n",
       "      <td>7</td>\n",
       "      <td>8</td>\n",
       "      <td>14</td>\n",
       "      <td>14</td>\n",
       "      <td>9</td>\n",
       "      <td>10</td>\n",
       "      <td>33</td>\n",
       "      <td>12</td>\n",
       "      <td>34</td>\n",
       "      <td>12</td>\n",
       "      <td>34</td>\n",
       "      <td>34</td>\n",
       "      <td>0</td>\n",
       "      <td>18</td>\n",
       "      <td>17</td>\n",
       "    </tr>\n",
       "    <tr>\n",
       "      <th>20</th>\n",
       "      <td>2019-01-08</td>\n",
       "      <td>20</td>\n",
       "      <td>7</td>\n",
       "      <td>8</td>\n",
       "      <td>13</td>\n",
       "      <td>15</td>\n",
       "      <td>9</td>\n",
       "      <td>9</td>\n",
       "      <td>33</td>\n",
       "      <td>11</td>\n",
       "      <td>34</td>\n",
       "      <td>12</td>\n",
       "      <td>33</td>\n",
       "      <td>34</td>\n",
       "      <td>0</td>\n",
       "      <td>18</td>\n",
       "      <td>17</td>\n",
       "    </tr>\n",
       "    <tr>\n",
       "      <th>21</th>\n",
       "      <td>2019-01-08</td>\n",
       "      <td>21</td>\n",
       "      <td>7</td>\n",
       "      <td>8</td>\n",
       "      <td>11</td>\n",
       "      <td>15</td>\n",
       "      <td>9</td>\n",
       "      <td>10</td>\n",
       "      <td>32</td>\n",
       "      <td>10</td>\n",
       "      <td>33</td>\n",
       "      <td>12</td>\n",
       "      <td>33</td>\n",
       "      <td>34</td>\n",
       "      <td>0</td>\n",
       "      <td>18</td>\n",
       "      <td>18</td>\n",
       "    </tr>\n",
       "    <tr>\n",
       "      <th>22</th>\n",
       "      <td>2019-01-08</td>\n",
       "      <td>22</td>\n",
       "      <td>7</td>\n",
       "      <td>7</td>\n",
       "      <td>10</td>\n",
       "      <td>14</td>\n",
       "      <td>8</td>\n",
       "      <td>9</td>\n",
       "      <td>31</td>\n",
       "      <td>9</td>\n",
       "      <td>33</td>\n",
       "      <td>12</td>\n",
       "      <td>34</td>\n",
       "      <td>34</td>\n",
       "      <td>0</td>\n",
       "      <td>18</td>\n",
       "      <td>18</td>\n",
       "    </tr>\n",
       "    <tr>\n",
       "      <th>23</th>\n",
       "      <td>2019-01-08</td>\n",
       "      <td>23</td>\n",
       "      <td>6</td>\n",
       "      <td>7</td>\n",
       "      <td>9</td>\n",
       "      <td>13</td>\n",
       "      <td>6</td>\n",
       "      <td>9</td>\n",
       "      <td>30</td>\n",
       "      <td>7</td>\n",
       "      <td>33</td>\n",
       "      <td>11</td>\n",
       "      <td>33</td>\n",
       "      <td>33</td>\n",
       "      <td>0</td>\n",
       "      <td>17</td>\n",
       "      <td>18</td>\n",
       "    </tr>\n",
       "  </tbody>\n",
       "</table>\n",
       "</div>"
      ],
      "text/plain": [
       "         Date  Hour  Emission  Emission-1  Lignite  Lignite-1  Hard coal  \\\n",
       "0  2019-01-08     0         6           9        9         15          5   \n",
       "1  2019-01-08     1         5           8        9         11          5   \n",
       "2  2019-01-08     2         5           7        9         10          5   \n",
       "3  2019-01-08     3         5           6        9          9          5   \n",
       "4  2019-01-08     4         6           5        9          9          5   \n",
       "5  2019-01-08     5         6           5       10          9          6   \n",
       "6  2019-01-08     6         7           5       11          9          9   \n",
       "7  2019-01-08     7         8           6       14          9         10   \n",
       "8  2019-01-08     8         9           6       16         10         11   \n",
       "9  2019-01-08     9         8           7       16         11         10   \n",
       "10 2019-01-08    10         8           8       15         14          9   \n",
       "11 2019-01-08    11         8           9       15         16          9   \n",
       "12 2019-01-08    12         7           8       14         16          9   \n",
       "13 2019-01-08    13         7           8       13         15          9   \n",
       "14 2019-01-08    14         7           8       13         15          9   \n",
       "15 2019-01-08    15         8           7       14         14         10   \n",
       "16 2019-01-08    16         8           7       14         13         10   \n",
       "17 2019-01-08    17         8           7       15         13          9   \n",
       "18 2019-01-08    18         8           8       15         14         10   \n",
       "19 2019-01-08    19         7           8       14         14          9   \n",
       "20 2019-01-08    20         7           8       13         15          9   \n",
       "21 2019-01-08    21         7           8       11         15          9   \n",
       "22 2019-01-08    22         7           7       10         14          8   \n",
       "23 2019-01-08    23         6           7        9         13          6   \n",
       "\n",
       "    Hard coal-1  W. Onshore  Fossil Gas  W. Onshore-1  Fossil Gas-1  Nuclear  \\\n",
       "0            12          30           6            29            11       31   \n",
       "1             9          30           6            29            10       33   \n",
       "2             6          30           6            30             9       32   \n",
       "3             5          30           6            30             6       33   \n",
       "4             5          30           7            30             6       33   \n",
       "5             5          30           8            30             6       34   \n",
       "6             5          32          10            30             6       34   \n",
       "7             5          33          11            30             7       34   \n",
       "8             6          33          12            30             8       34   \n",
       "9             9          34          12            32            10       34   \n",
       "10           10          34          12            33            11       33   \n",
       "11           11          34          12            33            12       33   \n",
       "12           10          34          12            34            12       33   \n",
       "13            9          34          12            34            12       34   \n",
       "14            9          33          12            34            12       34   \n",
       "15            9          33          12            34            12       34   \n",
       "16            9          34          12            34            12       34   \n",
       "17            9          34          12            33            12       34   \n",
       "18           10          33          12            33            12       34   \n",
       "19           10          33          12            34            12       34   \n",
       "20            9          33          11            34            12       33   \n",
       "21           10          32          10            33            12       33   \n",
       "22            9          31           9            33            12       34   \n",
       "23            9          30           7            33            11       33   \n",
       "\n",
       "    Nuclear-1  Solar  W. Offshore  W. Offshore-1  \n",
       "0          34      0           14             16  \n",
       "1          34      0           14             15  \n",
       "2          34      0           14             15  \n",
       "3          31      0           14             14  \n",
       "4          33      0           13             14  \n",
       "5          32      0           12             14  \n",
       "6          33      0           12             14  \n",
       "7          33      0           11             13  \n",
       "8          34      0           10             12  \n",
       "9          34      0           12             12  \n",
       "10         34      1           14             11  \n",
       "11         34      2           14             10  \n",
       "12         34      3           14             12  \n",
       "13         33      2           15             14  \n",
       "14         33      1           17             14  \n",
       "15         33      0           18             14  \n",
       "16         34      0           17             15  \n",
       "17         34      0           17             17  \n",
       "18         34      0           18             18  \n",
       "19         34      0           18             17  \n",
       "20         34      0           18             17  \n",
       "21         34      0           18             18  \n",
       "22         34      0           18             18  \n",
       "23         33      0           17             18  "
      ]
     },
     "execution_count": 50,
     "metadata": {},
     "output_type": "execute_result"
    }
   ],
   "source": [
    "predict_data_day"
   ]
  },
  {
   "cell_type": "code",
   "execution_count": 10,
   "id": "1533b5c2",
   "metadata": {
    "ExecuteTime": {
     "end_time": "2022-09-02T05:49:57.886394Z",
     "start_time": "2022-09-02T04:10:07.363868Z"
    }
   },
   "outputs": [
    {
     "name": "stderr",
     "output_type": "stream",
     "text": [
      "100%|████████████████████████████████████████████████████████████████████████████████| 3/3 [1:39:50<00:00, 1996.81s/it]\n"
     ]
    }
   ],
   "source": [
    "edges_possibilities, edges_frequency, k, timemodel = main('alemanha')"
   ]
  },
  {
   "cell_type": "code",
   "execution_count": 21,
   "id": "4cc35eec",
   "metadata": {
    "ExecuteTime": {
     "end_time": "2022-09-05T01:26:41.212719Z",
     "start_time": "2022-09-05T01:26:41.207732Z"
    }
   },
   "outputs": [
    {
     "data": {
      "text/plain": [
       "('W. Offshore', 'Emission')"
      ]
     },
     "execution_count": 21,
     "metadata": {},
     "output_type": "execute_result"
    }
   ],
   "source": [
    "edges_possibilities[0][::-1]"
   ]
  },
  {
   "cell_type": "code",
   "execution_count": 22,
   "id": "539cdf51",
   "metadata": {
    "ExecuteTime": {
     "end_time": "2022-09-05T01:26:53.000586Z",
     "start_time": "2022-09-05T01:26:52.994603Z"
    }
   },
   "outputs": [
    {
     "data": {
      "text/plain": [
       "('Emission', 'W. Offshore')"
      ]
     },
     "execution_count": 22,
     "metadata": {},
     "output_type": "execute_result"
    }
   ],
   "source": [
    "edges_possibilities[0]"
   ]
  },
  {
   "cell_type": "code",
   "execution_count": 18,
   "id": "afe6f206",
   "metadata": {
    "ExecuteTime": {
     "end_time": "2022-09-05T01:22:05.836041Z",
     "start_time": "2022-09-05T01:22:05.831090Z"
    }
   },
   "outputs": [],
   "source": [
    "edges_frequency_v=[edges_frequency[i]/k for i in range(len(edges_frequency))]"
   ]
  },
  {
   "cell_type": "code",
   "execution_count": 17,
   "id": "7ad82c1a",
   "metadata": {
    "ExecuteTime": {
     "end_time": "2022-09-05T01:22:03.455542Z",
     "start_time": "2022-09-05T01:22:03.439919Z"
    }
   },
   "outputs": [
    {
     "data": {
      "text/plain": [
       "[2, 2, 2, 1, 1, 2, 1, 2, 2, 1, 1, 1, 1, 1, 1]"
      ]
     },
     "execution_count": 17,
     "metadata": {},
     "output_type": "execute_result"
    }
   ],
   "source": [
    "edges_frequency"
   ]
  },
  {
   "cell_type": "code",
   "execution_count": 19,
   "id": "eb3853ae",
   "metadata": {
    "ExecuteTime": {
     "end_time": "2022-09-05T01:22:14.854624Z",
     "start_time": "2022-09-05T01:22:14.848605Z"
    }
   },
   "outputs": [
    {
     "data": {
      "text/plain": [
       "[0.5,\n",
       " 0.5,\n",
       " 0.5,\n",
       " 0.25,\n",
       " 0.25,\n",
       " 0.5,\n",
       " 0.25,\n",
       " 0.5,\n",
       " 0.5,\n",
       " 0.25,\n",
       " 0.25,\n",
       " 0.25,\n",
       " 0.25,\n",
       " 0.25,\n",
       " 0.25]"
      ]
     },
     "execution_count": 19,
     "metadata": {},
     "output_type": "execute_result"
    }
   ],
   "source": [
    "edges_frequency_v"
   ]
  },
  {
   "cell_type": "code",
   "execution_count": 68,
   "id": "1c40f499",
   "metadata": {
    "ExecuteTime": {
     "end_time": "2022-09-02T02:55:46.316275Z",
     "start_time": "2022-09-02T02:55:46.296751Z"
    }
   },
   "outputs": [
    {
     "data": {
      "text/html": [
       "<div>\n",
       "<style scoped>\n",
       "    .dataframe tbody tr th:only-of-type {\n",
       "        vertical-align: middle;\n",
       "    }\n",
       "\n",
       "    .dataframe tbody tr th {\n",
       "        vertical-align: top;\n",
       "    }\n",
       "\n",
       "    .dataframe thead th {\n",
       "        text-align: right;\n",
       "    }\n",
       "</style>\n",
       "<table border=\"1\" class=\"dataframe\">\n",
       "  <thead>\n",
       "    <tr style=\"text-align: right;\">\n",
       "      <th></th>\n",
       "      <th>Emission</th>\n",
       "      <th>Emission-1</th>\n",
       "      <th>Lignite</th>\n",
       "      <th>Lignite-1</th>\n",
       "      <th>Hard coal</th>\n",
       "      <th>Hard coal-1</th>\n",
       "      <th>W. Onshore</th>\n",
       "      <th>Fossil Gas</th>\n",
       "      <th>W. Onshore-1</th>\n",
       "      <th>Fossil Gas-1</th>\n",
       "      <th>Nuclear</th>\n",
       "      <th>Nuclear-1</th>\n",
       "      <th>Solar</th>\n",
       "      <th>W. Offshore</th>\n",
       "      <th>W. Offshore-1</th>\n",
       "    </tr>\n",
       "  </thead>\n",
       "  <tbody>\n",
       "    <tr>\n",
       "      <th>0</th>\n",
       "      <td>7</td>\n",
       "      <td>16</td>\n",
       "      <td>8</td>\n",
       "      <td>22</td>\n",
       "      <td>4</td>\n",
       "      <td>12</td>\n",
       "      <td>19</td>\n",
       "      <td>4</td>\n",
       "      <td>15</td>\n",
       "      <td>6</td>\n",
       "      <td>22</td>\n",
       "      <td>23</td>\n",
       "      <td>0</td>\n",
       "      <td>23</td>\n",
       "      <td>23</td>\n",
       "    </tr>\n",
       "    <tr>\n",
       "      <th>1</th>\n",
       "      <td>6</td>\n",
       "      <td>14</td>\n",
       "      <td>5</td>\n",
       "      <td>20</td>\n",
       "      <td>4</td>\n",
       "      <td>10</td>\n",
       "      <td>19</td>\n",
       "      <td>5</td>\n",
       "      <td>16</td>\n",
       "      <td>5</td>\n",
       "      <td>21</td>\n",
       "      <td>23</td>\n",
       "      <td>0</td>\n",
       "      <td>25</td>\n",
       "      <td>23</td>\n",
       "    </tr>\n",
       "    <tr>\n",
       "      <th>2</th>\n",
       "      <td>5</td>\n",
       "      <td>11</td>\n",
       "      <td>4</td>\n",
       "      <td>16</td>\n",
       "      <td>4</td>\n",
       "      <td>6</td>\n",
       "      <td>19</td>\n",
       "      <td>4</td>\n",
       "      <td>18</td>\n",
       "      <td>5</td>\n",
       "      <td>21</td>\n",
       "      <td>22</td>\n",
       "      <td>0</td>\n",
       "      <td>25</td>\n",
       "      <td>22</td>\n",
       "    </tr>\n",
       "    <tr>\n",
       "      <th>3</th>\n",
       "      <td>6</td>\n",
       "      <td>7</td>\n",
       "      <td>4</td>\n",
       "      <td>8</td>\n",
       "      <td>4</td>\n",
       "      <td>4</td>\n",
       "      <td>18</td>\n",
       "      <td>4</td>\n",
       "      <td>19</td>\n",
       "      <td>4</td>\n",
       "      <td>19</td>\n",
       "      <td>22</td>\n",
       "      <td>0</td>\n",
       "      <td>23</td>\n",
       "      <td>23</td>\n",
       "    </tr>\n",
       "    <tr>\n",
       "      <th>4</th>\n",
       "      <td>6</td>\n",
       "      <td>6</td>\n",
       "      <td>4</td>\n",
       "      <td>5</td>\n",
       "      <td>4</td>\n",
       "      <td>4</td>\n",
       "      <td>18</td>\n",
       "      <td>5</td>\n",
       "      <td>19</td>\n",
       "      <td>5</td>\n",
       "      <td>19</td>\n",
       "      <td>21</td>\n",
       "      <td>0</td>\n",
       "      <td>23</td>\n",
       "      <td>25</td>\n",
       "    </tr>\n",
       "  </tbody>\n",
       "</table>\n",
       "</div>"
      ],
      "text/plain": [
       "   Emission  Emission-1  Lignite  Lignite-1  Hard coal  Hard coal-1  \\\n",
       "0         7          16        8         22          4           12   \n",
       "1         6          14        5         20          4           10   \n",
       "2         5          11        4         16          4            6   \n",
       "3         6           7        4          8          4            4   \n",
       "4         6           6        4          5          4            4   \n",
       "\n",
       "   W. Onshore  Fossil Gas  W. Onshore-1  Fossil Gas-1  Nuclear  Nuclear-1  \\\n",
       "0          19           4            15             6       22         23   \n",
       "1          19           5            16             5       21         23   \n",
       "2          19           4            18             5       21         22   \n",
       "3          18           4            19             4       19         22   \n",
       "4          18           5            19             5       19         21   \n",
       "\n",
       "   Solar  W. Offshore  W. Offshore-1  \n",
       "0      0           23             23  \n",
       "1      0           25             23  \n",
       "2      0           25             22  \n",
       "3      0           23             23  \n",
       "4      0           23             25  "
      ]
     },
     "execution_count": 68,
     "metadata": {},
     "output_type": "execute_result"
    }
   ],
   "source": [
    "#\n",
    "data_learn.head()"
   ]
  },
  {
   "cell_type": "code",
   "execution_count": 69,
   "id": "2258dfdb",
   "metadata": {
    "ExecuteTime": {
     "end_time": "2022-09-02T03:02:50.642242Z",
     "start_time": "2022-09-02T02:56:21.707622Z"
    }
   },
   "outputs": [],
   "source": [
    "data_learn.drop(['Date','Hour'], axis = 1, inplace = True)\n",
    "best_model = DM.EdgesModel(data_learn, FullOpt)[0]"
   ]
  },
  {
   "cell_type": "code",
   "execution_count": 70,
   "id": "34e54ba3",
   "metadata": {
    "ExecuteTime": {
     "end_time": "2022-09-02T03:03:05.211498Z",
     "start_time": "2022-09-02T03:03:05.203518Z"
    }
   },
   "outputs": [
    {
     "data": {
      "text/plain": [
       "[('Emission', 'Lignite'),\n",
       " ('Emission', 'W. Offshore-1'),\n",
       " ('Emission-1', 'Nuclear-1'),\n",
       " ('Hard coal', 'W. Offshore'),\n",
       " ('Hard coal', 'Fossil Gas'),\n",
       " ('Hard coal-1', 'Nuclear'),\n",
       " ('Hard coal-1', 'Emission'),\n",
       " ('Hard coal-1', 'W. Onshore-1'),\n",
       " ('Hard coal-1', 'Lignite-1'),\n",
       " ('Hard coal-1', 'W. Offshore'),\n",
       " ('Hard coal-1', 'Lignite'),\n",
       " ('Fossil Gas', 'Emission'),\n",
       " ('Fossil Gas', 'Lignite-1'),\n",
       " ('W. Onshore-1', 'Lignite'),\n",
       " ('Fossil Gas-1', 'Nuclear-1'),\n",
       " ('Nuclear', 'Hard coal'),\n",
       " ('Nuclear', 'W. Onshore'),\n",
       " ('Nuclear-1', 'Hard coal-1'),\n",
       " ('Nuclear-1', 'Fossil Gas'),\n",
       " ('Solar', 'Hard coal-1'),\n",
       " ('Solar', 'W. Offshore-1'),\n",
       " ('Solar', 'Emission'),\n",
       " ('Solar', 'Nuclear'),\n",
       " ('Solar', 'Lignite')]"
      ]
     },
     "execution_count": 70,
     "metadata": {},
     "output_type": "execute_result"
    }
   ],
   "source": [
    "best_model"
   ]
  },
  {
   "cell_type": "code",
   "execution_count": 74,
   "id": "e1e894b7",
   "metadata": {
    "ExecuteTime": {
     "end_time": "2022-09-02T03:25:41.953642Z",
     "start_time": "2022-09-02T03:25:41.949652Z"
    }
   },
   "outputs": [],
   "source": [
    "edges_possibilities = []\n",
    "edges_frequency = []\n",
    "best_model = blanket(best_model, 'Emission')"
   ]
  },
  {
   "cell_type": "code",
   "execution_count": 75,
   "id": "ba102237",
   "metadata": {
    "ExecuteTime": {
     "end_time": "2022-09-02T03:25:42.706215Z",
     "start_time": "2022-09-02T03:25:42.702225Z"
    }
   },
   "outputs": [],
   "source": [
    "edges_possibilities, edges_frequency = update_edges_frequencies(best_model, edges_possibilities, edges_frequency)"
   ]
  },
  {
   "cell_type": "code",
   "execution_count": 76,
   "id": "85854c7b",
   "metadata": {
    "ExecuteTime": {
     "end_time": "2022-09-02T03:25:52.504493Z",
     "start_time": "2022-09-02T03:25:52.497512Z"
    }
   },
   "outputs": [
    {
     "data": {
      "text/plain": [
       "[('Emission', 'Lignite'),\n",
       " ('Emission', 'W. Offshore-1'),\n",
       " ('Hard coal-1', 'Emission'),\n",
       " ('Fossil Gas', 'Emission'),\n",
       " ('Solar', 'Emission'),\n",
       " ('Hard coal-1', 'Lignite'),\n",
       " ('W. Onshore-1', 'Lignite'),\n",
       " ('Solar', 'W. Offshore-1'),\n",
       " ('Solar', 'Lignite')]"
      ]
     },
     "execution_count": 76,
     "metadata": {},
     "output_type": "execute_result"
    }
   ],
   "source": [
    "edges_possibilities"
   ]
  },
  {
   "cell_type": "code",
   "execution_count": 77,
   "id": "0618c7b4",
   "metadata": {
    "ExecuteTime": {
     "end_time": "2022-09-02T03:26:03.485497Z",
     "start_time": "2022-09-02T03:26:03.479513Z"
    }
   },
   "outputs": [
    {
     "data": {
      "text/plain": [
       "[1, 1, 1, 1, 1, 1, 1, 1, 1]"
      ]
     },
     "execution_count": 77,
     "metadata": {},
     "output_type": "execute_result"
    }
   ],
   "source": [
    "edges_frequency"
   ]
  },
  {
   "cell_type": "code",
   "execution_count": 86,
   "id": "ec6488fb",
   "metadata": {
    "ExecuteTime": {
     "end_time": "2022-09-02T03:29:32.220889Z",
     "start_time": "2022-09-02T03:29:32.214905Z"
    }
   },
   "outputs": [],
   "source": [
    "best_model = [('Emission', 'Lignite'),\n",
    " ('Emission', 'W. Offshore-1'),\n",
    " ('Hard coal-1', 'Emission'),\n",
    " ('Fossil Gas', 'Emission'),\n",
    " ('Solar', 'Emission'),\n",
    " ('Hard coal-1', 'Lignite'),\n",
    " ('W. Onshore-1', 'Lignite'),\n",
    " ('Solar', 'W. Offshore-1'),\n",
    " ('Solar', 'Lignite'), ('k','k2'), ('t1','t3')]"
   ]
  },
  {
   "cell_type": "code",
   "execution_count": 88,
   "id": "228cd824",
   "metadata": {
    "ExecuteTime": {
     "end_time": "2022-09-02T03:29:38.497626Z",
     "start_time": "2022-09-02T03:29:38.491604Z"
    }
   },
   "outputs": [
    {
     "data": {
      "text/plain": [
       "[('Emission', 'Lignite'),\n",
       " ('Emission', 'W. Offshore-1'),\n",
       " ('Hard coal-1', 'Emission'),\n",
       " ('Fossil Gas', 'Emission'),\n",
       " ('Solar', 'Emission'),\n",
       " ('Hard coal-1', 'Lignite'),\n",
       " ('W. Onshore-1', 'Lignite'),\n",
       " ('Solar', 'W. Offshore-1'),\n",
       " ('Solar', 'Lignite'),\n",
       " ('k', 'k2'),\n",
       " ('t1', 't3')]"
      ]
     },
     "execution_count": 88,
     "metadata": {},
     "output_type": "execute_result"
    }
   ],
   "source": [
    "edges_possibilities"
   ]
  },
  {
   "cell_type": "code",
   "execution_count": 89,
   "id": "43449083",
   "metadata": {
    "ExecuteTime": {
     "end_time": "2022-09-02T03:29:40.952540Z",
     "start_time": "2022-09-02T03:29:40.947553Z"
    }
   },
   "outputs": [
    {
     "data": {
      "text/plain": [
       "[4, 4, 4, 4, 4, 4, 4, 4, 4, 3, 1]"
      ]
     },
     "execution_count": 89,
     "metadata": {},
     "output_type": "execute_result"
    }
   ],
   "source": [
    "edges_frequency"
   ]
  },
  {
   "cell_type": "code",
   "execution_count": 87,
   "id": "14293bab",
   "metadata": {
    "ExecuteTime": {
     "end_time": "2022-09-02T03:29:35.970431Z",
     "start_time": "2022-09-02T03:29:35.967462Z"
    }
   },
   "outputs": [],
   "source": [
    "edges_possibilities, edges_frequency = update_edges_frequencies(best_model, edges_possibilities, edges_frequency)"
   ]
  },
  {
   "cell_type": "code",
   "execution_count": 14,
   "id": "e2032d6c",
   "metadata": {
    "ExecuteTime": {
     "end_time": "2022-09-02T01:37:30.849429Z",
     "start_time": "2022-09-02T01:37:30.704121Z"
    }
   },
   "outputs": [
    {
     "data": {
      "text/html": [
       "<div>\n",
       "<style scoped>\n",
       "    .dataframe tbody tr th:only-of-type {\n",
       "        vertical-align: middle;\n",
       "    }\n",
       "\n",
       "    .dataframe tbody tr th {\n",
       "        vertical-align: top;\n",
       "    }\n",
       "\n",
       "    .dataframe thead th {\n",
       "        text-align: right;\n",
       "    }\n",
       "</style>\n",
       "<table border=\"1\" class=\"dataframe\">\n",
       "  <thead>\n",
       "    <tr style=\"text-align: right;\">\n",
       "      <th></th>\n",
       "      <th>Date</th>\n",
       "    </tr>\n",
       "  </thead>\n",
       "  <tbody>\n",
       "    <tr>\n",
       "      <th>0</th>\n",
       "      <td>2019-01-01</td>\n",
       "    </tr>\n",
       "    <tr>\n",
       "      <th>1</th>\n",
       "      <td>2019-01-02</td>\n",
       "    </tr>\n",
       "    <tr>\n",
       "      <th>2</th>\n",
       "      <td>2019-01-03</td>\n",
       "    </tr>\n",
       "    <tr>\n",
       "      <th>3</th>\n",
       "      <td>2019-01-04</td>\n",
       "    </tr>\n",
       "    <tr>\n",
       "      <th>4</th>\n",
       "      <td>2019-01-05</td>\n",
       "    </tr>\n",
       "  </tbody>\n",
       "</table>\n",
       "</div>"
      ],
      "text/plain": [
       "        Date\n",
       "0 2019-01-01\n",
       "1 2019-01-02\n",
       "2 2019-01-03\n",
       "3 2019-01-04\n",
       "4 2019-01-05"
      ]
     },
     "execution_count": 14,
     "metadata": {},
     "output_type": "execute_result"
    }
   ],
   "source": [
    "q = '''select distinct \"Date\" from pre_processed_data.dbn_features_selected_alemanha order by \"Date\"'''\n",
    "conn = open_connection()\n",
    "date = pd.read_sql(q,conn)\n",
    "conn.close()\n",
    "date['Date'] = date['Date']+timedelta(days = 0)\n",
    "date.head()"
   ]
  },
  {
   "cell_type": "code",
   "execution_count": 15,
   "id": "058a5a09",
   "metadata": {
    "ExecuteTime": {
     "end_time": "2022-09-02T01:38:39.828444Z",
     "start_time": "2022-09-02T01:38:39.821462Z"
    }
   },
   "outputs": [
    {
     "data": {
      "text/plain": [
       "Timestamp('2019-01-08 00:00:00')"
      ]
     },
     "execution_count": 15,
     "metadata": {},
     "output_type": "execute_result"
    }
   ],
   "source": [
    "date['Date'][7]"
   ]
  },
  {
   "cell_type": "code",
   "execution_count": 12,
   "id": "d1d3ca6d",
   "metadata": {
    "ExecuteTime": {
     "end_time": "2022-09-02T01:36:42.884062Z",
     "start_time": "2022-09-02T01:36:42.875088Z"
    }
   },
   "outputs": [
    {
     "data": {
      "text/plain": [
       "0      2019-01-01\n",
       "1      2019-01-02\n",
       "2      2019-01-03\n",
       "3      2019-01-04\n",
       "4      2019-01-05\n",
       "          ...    \n",
       "1086   2021-12-26\n",
       "1087   2021-12-27\n",
       "1088   2021-12-28\n",
       "1089   2021-12-29\n",
       "1090   2021-12-30\n",
       "Name: Date, Length: 1091, dtype: datetime64[ns]"
      ]
     },
     "execution_count": 12,
     "metadata": {},
     "output_type": "execute_result"
    }
   ],
   "source": [
    "date['Date']+timedelta(days = 0)"
   ]
  },
  {
   "cell_type": "code",
   "execution_count": 41,
   "id": "06a68549",
   "metadata": {
    "ExecuteTime": {
     "end_time": "2022-09-05T01:40:36.005242Z",
     "start_time": "2022-09-05T01:40:35.999263Z"
    }
   },
   "outputs": [],
   "source": [
    "edges_possibilities = [('x','y'),('y','x')]\n",
    "edges_frequency_v = [0.9,0.7]\n",
    "fth = 0.6"
   ]
  },
  {
   "cell_type": "code",
   "execution_count": 42,
   "id": "c2d0de4a",
   "metadata": {
    "ExecuteTime": {
     "end_time": "2022-09-05T01:40:36.459219Z",
     "start_time": "2022-09-05T01:40:36.450196Z"
    }
   },
   "outputs": [],
   "source": [
    "edges=[]\n",
    "for i in range(len(edges_possibilities)):\n",
    "    if edges_frequency_v[i]>=fth and edges_possibilities[i] not in edges:\n",
    "        if edges_possibilities[i][::-1] not in edges_possibilities:\n",
    "            edges.append(edges_possibilities[i])\n",
    "        else: \n",
    "            if edges_frequency_v[i] > edges_frequency_v[edges_possibilities.index(edges_possibilities[i][::-1])]:\n",
    "                edges.append(edges_possibilities[i])\n",
    "            else: \n",
    "                edges.append(edges_possibilities[i][::-1])\n",
    "    elif edges_frequency_v[i]<fth:\n",
    "        for j in range(len(edges_possibilities)):\n",
    "            if edges_possibilities[i]==edges_possibilities[j][::-1]:\n",
    "                if edges_frequency_v[i]+edges_frequency_v[j]>=fth:\n",
    "                    if edges_frequency_v[i]>edges_frequency_v[j]:\n",
    "                        edges.append(edges_possibilities[i])\n",
    "                    if edges_frequency_v[i]<edges_frequency_v[j]:\n",
    "                        edges.append(edges_possibilities[j])\n",
    "                    if edges_frequency_v[i]==edges_frequency_v[j]:\n",
    "                        auxci=0\n",
    "                        auxcj=0\n",
    "                        for s in range(len(edges)):\n",
    "                            if edges[s]==edges_possibilities[i]:\n",
    "                                auxci=auxci+1\n",
    "                            if edges[s]==edges_possibilities[j]:\n",
    "                                auxcj=auxcj+1\n",
    "                        if auxci>0:\n",
    "                            edges.append(edges_possibilities[i])\n",
    "                        elif auxcj>0:\n",
    "                            edges.append(edges_possibilities[j])\n",
    "                        else: \n",
    "                            import random\n",
    "                            edges.append(random.choice([edges_possibilities[i],edges_possibilities[j]]))\n",
    "edges = list(set(edges))"
   ]
  },
  {
   "cell_type": "code",
   "execution_count": 43,
   "id": "368d1ebf",
   "metadata": {
    "ExecuteTime": {
     "end_time": "2022-09-05T01:40:37.410461Z",
     "start_time": "2022-09-05T01:40:37.405454Z"
    }
   },
   "outputs": [
    {
     "data": {
      "text/plain": [
       "[('x', 'y')]"
      ]
     },
     "execution_count": 43,
     "metadata": {},
     "output_type": "execute_result"
    }
   ],
   "source": [
    "edges"
   ]
  },
  {
   "cell_type": "code",
   "execution_count": null,
   "id": "ff95611c",
   "metadata": {},
   "outputs": [],
   "source": []
  }
 ],
 "metadata": {
  "kernelspec": {
   "display_name": "Python 3",
   "language": "python",
   "name": "python3"
  },
  "language_info": {
   "codemirror_mode": {
    "name": "ipython",
    "version": 3
   },
   "file_extension": ".py",
   "mimetype": "text/x-python",
   "name": "python",
   "nbconvert_exporter": "python",
   "pygments_lexer": "ipython3",
   "version": "3.7.11"
  }
 },
 "nbformat": 4,
 "nbformat_minor": 5
}
