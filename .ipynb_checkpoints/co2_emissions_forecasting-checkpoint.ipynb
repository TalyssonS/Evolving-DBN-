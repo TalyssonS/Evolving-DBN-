{
 "cells": [
  {
   "cell_type": "code",
   "execution_count": 1,
   "id": "7ddcb530",
   "metadata": {
    "ExecuteTime": {
     "end_time": "2022-09-02T03:35:49.511511Z",
     "start_time": "2022-09-02T03:35:38.532558Z"
    }
   },
   "outputs": [],
   "source": [
    "import DefModules as DM\n",
    "from datetime import datetime, timedelta\n",
    "FullOpt =  True\n",
    "from pgmpy.inference import VariableElimination\n",
    "import jupyter_contrib_nbextensions\n",
    "import random\n",
    "import warnings\n",
    "import sys \n",
    "import logging\n",
    "import pandas as pd\n",
    "import time\n",
    "import numpy as np\n",
    "import pickle\n",
    "from tqdm import tqdm\n",
    "import psycopg2 as pg\n",
    "import sqlalchemy as sq\n",
    "import networkx as nx\n",
    "logging.disable()\n",
    "if not sys.warnoptions:\n",
    "    warnings.simplefilter(\"ignore\")"
   ]
  },
  {
   "cell_type": "code",
   "execution_count": 2,
   "id": "2bfb8cf0",
   "metadata": {
    "ExecuteTime": {
     "end_time": "2022-09-02T03:35:49.518971Z",
     "start_time": "2022-09-02T03:35:49.511511Z"
    }
   },
   "outputs": [],
   "source": [
    "def open_connection():\n",
    "    '''\n",
    "    FUNCTION TO CONNECT TO THE POSTGRESQL DATABASE\n",
    "    '''\n",
    "    conn = pg.connect(dbname='postgres', user = 'postgres', password = 123, host = 'localhost')\n",
    "    return conn\n",
    "def get_connection():\n",
    "    '''\n",
    "    FUNCTION TO CONNECT TO THE POSTGRESQL DATABASE AND RETURN THE SQLACHEMY ENGINE OBJECT\n",
    "    -----------\n",
    "    output: object\n",
    "        SQLACHEMY ENGINE OBJECT - POSTGRESQL DATABASE CONNECTION\n",
    "    '''\n",
    "    user = 'postgres'\n",
    "    password = 123\n",
    "    host = 'localhost'\n",
    "    port = 5432\n",
    "    database = 'postgres'\n",
    "    return sq.create_engine(url=\"postgresql://{0}:{1}@{2}:{3}/{4}\".format(user, password, host, port, database))"
   ]
  },
  {
   "cell_type": "code",
   "execution_count": 3,
   "id": "c4bdb801",
   "metadata": {
    "ExecuteTime": {
     "end_time": "2022-09-02T03:35:49.593804Z",
     "start_time": "2022-09-02T03:35:49.521964Z"
    }
   },
   "outputs": [],
   "source": [
    "def blanket(model,variable):\n",
    "    '''\n",
    "    Function to extract the Markov Blanket of the target variable (reduces the structure)\n",
    "    -----------\n",
    "    input:\n",
    "    model: list\n",
    "        list of edges\n",
    "        \n",
    "    variable: str\n",
    "        name of the target variable\n",
    "        \n",
    "    output:\n",
    "    blanket: list\n",
    "        list of edges \n",
    "    '''\n",
    "    blanket=[]\n",
    "    sons=[]\n",
    "    for i in model:\n",
    "        if i[0]==variable or i[1]==variable:\n",
    "            blanket.append(i)\n",
    "        if i[0]==variable:\n",
    "            sons.append(i[1])\n",
    "    for i in model:\n",
    "        if i[1] in sons and i[0]!=variable:\n",
    "            blanket.append(i)\n",
    "    return blanket"
   ]
  },
  {
   "cell_type": "code",
   "execution_count": 4,
   "id": "58a8ca24",
   "metadata": {
    "ExecuteTime": {
     "end_time": "2022-09-02T03:35:49.742545Z",
     "start_time": "2022-09-02T03:35:49.595767Z"
    }
   },
   "outputs": [],
   "source": [
    "def verifica_remove_ciclos(edges):\n",
    "    '''\n",
    "    Function to verify if the edges is a DAG and to try remove cycles\n",
    "    -----------\n",
    "    input:\n",
    "    edges: list\n",
    "        list of edges\n",
    "                \n",
    "    output:\n",
    "    blanket: list\n",
    "        list of edges \n",
    "    '''\n",
    "    edgesdag = edges #recebe o próprio modelo\n",
    "    #Verifica se tem ciclos e tenta remover invertendo uma aresta\n",
    "    if ~nx.is_directed_acyclic_graph(nx.DiGraph(edgesdag[:])):\n",
    "        for i in edgesdag:  # (3) flip single edge\n",
    "            edges2 = edgesdag.copy()\n",
    "            edges2.extend([i[::-1]])\n",
    "            new_edges = edges2.copy()\n",
    "            new_edges.remove(i)\n",
    "            if nx.is_directed_acyclic_graph(nx.DiGraph(new_edges[:])):\n",
    "                edgesdag = new_edges.copy()\n",
    "                break\n",
    "    #Verifica se tem ciclos e tenta remover invertendo duas arestas\n",
    "    if ~nx.is_directed_acyclic_graph(nx.DiGraph(edgesdag[:])):\n",
    "        for i in edgesdag:\n",
    "            for j in edgesdag:# (3) flip two edges\n",
    "                if i != j:\n",
    "                    edges2 = edgesdag.copy()\n",
    "                    edges2.extend([i[::-1]])\n",
    "                    edges2.extend([j[::-1]])\n",
    "                    new_edges = edges2.copy()\n",
    "                    new_edges.remove(i)\n",
    "                    new_edges.remove(j)\n",
    "                    if nx.is_directed_acyclic_graph(nx.DiGraph(new_edges[:])):\n",
    "                        edgesdag = new_edges.copy()\n",
    "                        breaker = True\n",
    "                        break\n",
    "            if breaker:\n",
    "                break\n",
    "    #Verifica se tem ciclos e tenta remover invertendo uma aresta e excluindo uma aresta\n",
    "    if ~nx.is_directed_acyclic_graph(nx.DiGraph(edgesdag[:])):\n",
    "        for i in edgesdag:\n",
    "            for j in edgesdag:# (3) flip two edges\n",
    "                if i != j:\n",
    "                    edges2 = edgesdag.copy()\n",
    "                    edges2.extend([i[::-1]])\n",
    "                    new_edges = edges2.copy()\n",
    "                    new_edges.remove(i)\n",
    "                    new_edges.remove(j)\n",
    "                    if nx.is_directed_acyclic_graph(nx.DiGraph(new_edges[:])):\n",
    "                        edgesdag = new_edges.copy()\n",
    "                        breaker = True\n",
    "                        break\n",
    "            if breaker:\n",
    "                break\n",
    "    return edgesdag"
   ]
  },
  {
   "cell_type": "code",
   "execution_count": 5,
   "id": "4554497a",
   "metadata": {
    "ExecuteTime": {
     "end_time": "2022-09-02T03:35:49.865224Z",
     "start_time": "2022-09-02T03:35:49.743509Z"
    }
   },
   "outputs": [],
   "source": [
    "def get_all_dates(pais):\n",
    "    q = '''select distinct cast(\"Date\" as DATE) as datas from pre_processed_data.dbn_features_selected_{pais} order by datas'''.format(pais=pais)\n",
    "    conn = open_connection()\n",
    "    date = pd.read_sql(q,conn)\n",
    "    conn.close()\n",
    "    datas = date['datas'].tolist()\n",
    "    return datas"
   ]
  },
  {
   "cell_type": "code",
   "execution_count": 6,
   "id": "f239747e",
   "metadata": {
    "ExecuteTime": {
     "end_time": "2022-09-02T03:35:49.937992Z",
     "start_time": "2022-09-02T03:35:49.866190Z"
    }
   },
   "outputs": [],
   "source": [
    "def get_dataset(pais,date_ini, date_fin):\n",
    "    q = '''select * \n",
    "    from pre_processed_data.dbn_features_selected_{pais} where \"Date\" between '{date_ini}' and '{date_fin}' '''.format(pais=pais,date_ini=date_ini,date_fin=date_fin)\n",
    "    conn = open_connection()\n",
    "    dataset = pd.read_sql(q,conn)\n",
    "    conn.close()\n",
    "    return dataset"
   ]
  },
  {
   "cell_type": "code",
   "execution_count": 7,
   "id": "2f7bb884",
   "metadata": {
    "ExecuteTime": {
     "end_time": "2022-09-02T03:35:50.012838Z",
     "start_time": "2022-09-02T03:35:49.938999Z"
    }
   },
   "outputs": [],
   "source": [
    "def update_edges_frequencies(best_model, edges_possibilities, edges_frequency):\n",
    "    if not edges_possibilities:\n",
    "        edges_possibilities = best_model\n",
    "        for p in range(len(edges_possibilities)):\n",
    "            edges_frequency.append(1)\n",
    "    else:\n",
    "        for v in range(len(best_model)):\n",
    "            if best_model[v] not in edges_possibilities:\n",
    "                edges_possibilities.append(best_model[v])\n",
    "                edges_frequency.append(1)\n",
    "            else:\n",
    "                for f in range(len(edges_possibilities)):\n",
    "                    if best_model[v] == edges_possibilities[f]:\n",
    "                        edges_frequency[f]=edges_frequency[f]+1\n",
    "    return edges_possibilities, edges_frequency"
   ]
  },
  {
   "cell_type": "code",
   "execution_count": 8,
   "id": "37547577",
   "metadata": {
    "ExecuteTime": {
     "end_time": "2022-09-02T03:35:50.086749Z",
     "start_time": "2022-09-02T03:35:50.014783Z"
    }
   },
   "outputs": [],
   "source": [
    "def update_threshold_select_edges(k, edges_possibilities, edges_frequency):\n",
    "    fth = 1/3+np.sqrt(2/k)"
   ]
  },
  {
   "cell_type": "code",
   "execution_count": 11,
   "id": "602db184",
   "metadata": {
    "ExecuteTime": {
     "end_time": "2022-09-02T03:44:02.163705Z",
     "start_time": "2022-09-02T03:44:02.157755Z"
    }
   },
   "outputs": [],
   "source": [
    "def main(pais):\n",
    "    #initialize auxiliary variables\n",
    "    k=1 #total days used\n",
    "    target_variable = 'Emission'\n",
    "    edges_possibilities = []\n",
    "    edges_frequency = []\n",
    "    timemodel = []\n",
    "    timeinference = []\n",
    "    \n",
    "    #read all available dates\n",
    "    dates = get_all_dates(pais)\n",
    "    \n",
    "    #begin the forecast experiment\n",
    "    for i in dates[0:3]:\n",
    "        #dataset to learn the model\n",
    "        data_learn = get_dataset(pais,i, i+timedelta(days = 0))\n",
    "        #structural learning with the dataset of day i\n",
    "        data_learn.drop(['Date','Hour'], axis = 1, inplace = True)\n",
    "        ti = time.time()\n",
    "        best_model = DM.EdgesModel(data_learn, FullOpt)[0]\n",
    "        \n",
    "        #get the markov blanket\n",
    "        best_model = blanket(best_model, target_variable)\n",
    "        \n",
    "        #update the edges frequencies\n",
    "        edges_possibilities, edges_frequency = update_edges_frequencies(best_model, edges_possibilities, edges_frequency)\n",
    "        \n",
    "        #update threshold and select the edges\n",
    "        \n",
    "        tf = time.time()\n",
    "        timemodel.append(tf-ti)\n",
    "        #forecast initial in day 8 (fit from 01 until 07)\n",
    "        if i >= dates[6]:\n",
    "            #fit dataset (last 7 days)\n",
    "            data_fit = get_dataset(pais,i-timedelta(days = 6), i)\n",
    "        k = k+1\n",
    "            \n",
    "    return edges_possibilities, edges_frequency, k, timemodel    "
   ]
  },
  {
   "cell_type": "code",
   "execution_count": null,
   "id": "bcfe23ec",
   "metadata": {
    "ExecuteTime": {
     "start_time": "2022-09-02T03:44:13.839Z"
    }
   },
   "outputs": [],
   "source": [
    "edges_possibilities, edges_frequency, k, timemodel = main('alemanha')"
   ]
  },
  {
   "cell_type": "code",
   "execution_count": null,
   "id": "e027a9b0",
   "metadata": {},
   "outputs": [],
   "source": []
  },
  {
   "cell_type": "code",
   "execution_count": null,
   "id": "aba88d35",
   "metadata": {},
   "outputs": [],
   "source": []
  },
  {
   "cell_type": "code",
   "execution_count": null,
   "id": "acd74557",
   "metadata": {},
   "outputs": [],
   "source": []
  },
  {
   "cell_type": "code",
   "execution_count": 68,
   "id": "1a67a5fc",
   "metadata": {
    "ExecuteTime": {
     "end_time": "2022-09-02T02:55:46.316275Z",
     "start_time": "2022-09-02T02:55:46.296751Z"
    }
   },
   "outputs": [
    {
     "data": {
      "text/html": [
       "<div>\n",
       "<style scoped>\n",
       "    .dataframe tbody tr th:only-of-type {\n",
       "        vertical-align: middle;\n",
       "    }\n",
       "\n",
       "    .dataframe tbody tr th {\n",
       "        vertical-align: top;\n",
       "    }\n",
       "\n",
       "    .dataframe thead th {\n",
       "        text-align: right;\n",
       "    }\n",
       "</style>\n",
       "<table border=\"1\" class=\"dataframe\">\n",
       "  <thead>\n",
       "    <tr style=\"text-align: right;\">\n",
       "      <th></th>\n",
       "      <th>Emission</th>\n",
       "      <th>Emission-1</th>\n",
       "      <th>Lignite</th>\n",
       "      <th>Lignite-1</th>\n",
       "      <th>Hard coal</th>\n",
       "      <th>Hard coal-1</th>\n",
       "      <th>W. Onshore</th>\n",
       "      <th>Fossil Gas</th>\n",
       "      <th>W. Onshore-1</th>\n",
       "      <th>Fossil Gas-1</th>\n",
       "      <th>Nuclear</th>\n",
       "      <th>Nuclear-1</th>\n",
       "      <th>Solar</th>\n",
       "      <th>W. Offshore</th>\n",
       "      <th>W. Offshore-1</th>\n",
       "    </tr>\n",
       "  </thead>\n",
       "  <tbody>\n",
       "    <tr>\n",
       "      <th>0</th>\n",
       "      <td>7</td>\n",
       "      <td>16</td>\n",
       "      <td>8</td>\n",
       "      <td>22</td>\n",
       "      <td>4</td>\n",
       "      <td>12</td>\n",
       "      <td>19</td>\n",
       "      <td>4</td>\n",
       "      <td>15</td>\n",
       "      <td>6</td>\n",
       "      <td>22</td>\n",
       "      <td>23</td>\n",
       "      <td>0</td>\n",
       "      <td>23</td>\n",
       "      <td>23</td>\n",
       "    </tr>\n",
       "    <tr>\n",
       "      <th>1</th>\n",
       "      <td>6</td>\n",
       "      <td>14</td>\n",
       "      <td>5</td>\n",
       "      <td>20</td>\n",
       "      <td>4</td>\n",
       "      <td>10</td>\n",
       "      <td>19</td>\n",
       "      <td>5</td>\n",
       "      <td>16</td>\n",
       "      <td>5</td>\n",
       "      <td>21</td>\n",
       "      <td>23</td>\n",
       "      <td>0</td>\n",
       "      <td>25</td>\n",
       "      <td>23</td>\n",
       "    </tr>\n",
       "    <tr>\n",
       "      <th>2</th>\n",
       "      <td>5</td>\n",
       "      <td>11</td>\n",
       "      <td>4</td>\n",
       "      <td>16</td>\n",
       "      <td>4</td>\n",
       "      <td>6</td>\n",
       "      <td>19</td>\n",
       "      <td>4</td>\n",
       "      <td>18</td>\n",
       "      <td>5</td>\n",
       "      <td>21</td>\n",
       "      <td>22</td>\n",
       "      <td>0</td>\n",
       "      <td>25</td>\n",
       "      <td>22</td>\n",
       "    </tr>\n",
       "    <tr>\n",
       "      <th>3</th>\n",
       "      <td>6</td>\n",
       "      <td>7</td>\n",
       "      <td>4</td>\n",
       "      <td>8</td>\n",
       "      <td>4</td>\n",
       "      <td>4</td>\n",
       "      <td>18</td>\n",
       "      <td>4</td>\n",
       "      <td>19</td>\n",
       "      <td>4</td>\n",
       "      <td>19</td>\n",
       "      <td>22</td>\n",
       "      <td>0</td>\n",
       "      <td>23</td>\n",
       "      <td>23</td>\n",
       "    </tr>\n",
       "    <tr>\n",
       "      <th>4</th>\n",
       "      <td>6</td>\n",
       "      <td>6</td>\n",
       "      <td>4</td>\n",
       "      <td>5</td>\n",
       "      <td>4</td>\n",
       "      <td>4</td>\n",
       "      <td>18</td>\n",
       "      <td>5</td>\n",
       "      <td>19</td>\n",
       "      <td>5</td>\n",
       "      <td>19</td>\n",
       "      <td>21</td>\n",
       "      <td>0</td>\n",
       "      <td>23</td>\n",
       "      <td>25</td>\n",
       "    </tr>\n",
       "  </tbody>\n",
       "</table>\n",
       "</div>"
      ],
      "text/plain": [
       "   Emission  Emission-1  Lignite  Lignite-1  Hard coal  Hard coal-1  \\\n",
       "0         7          16        8         22          4           12   \n",
       "1         6          14        5         20          4           10   \n",
       "2         5          11        4         16          4            6   \n",
       "3         6           7        4          8          4            4   \n",
       "4         6           6        4          5          4            4   \n",
       "\n",
       "   W. Onshore  Fossil Gas  W. Onshore-1  Fossil Gas-1  Nuclear  Nuclear-1  \\\n",
       "0          19           4            15             6       22         23   \n",
       "1          19           5            16             5       21         23   \n",
       "2          19           4            18             5       21         22   \n",
       "3          18           4            19             4       19         22   \n",
       "4          18           5            19             5       19         21   \n",
       "\n",
       "   Solar  W. Offshore  W. Offshore-1  \n",
       "0      0           23             23  \n",
       "1      0           25             23  \n",
       "2      0           25             22  \n",
       "3      0           23             23  \n",
       "4      0           23             25  "
      ]
     },
     "execution_count": 68,
     "metadata": {},
     "output_type": "execute_result"
    }
   ],
   "source": [
    "#\n",
    "data_learn.head()"
   ]
  },
  {
   "cell_type": "code",
   "execution_count": 69,
   "id": "0da4325a",
   "metadata": {
    "ExecuteTime": {
     "end_time": "2022-09-02T03:02:50.642242Z",
     "start_time": "2022-09-02T02:56:21.707622Z"
    }
   },
   "outputs": [],
   "source": [
    "data_learn.drop(['Date','Hour'], axis = 1, inplace = True)\n",
    "best_model = DM.EdgesModel(data_learn, FullOpt)[0]"
   ]
  },
  {
   "cell_type": "code",
   "execution_count": 70,
   "id": "18c59175",
   "metadata": {
    "ExecuteTime": {
     "end_time": "2022-09-02T03:03:05.211498Z",
     "start_time": "2022-09-02T03:03:05.203518Z"
    }
   },
   "outputs": [
    {
     "data": {
      "text/plain": [
       "[('Emission', 'Lignite'),\n",
       " ('Emission', 'W. Offshore-1'),\n",
       " ('Emission-1', 'Nuclear-1'),\n",
       " ('Hard coal', 'W. Offshore'),\n",
       " ('Hard coal', 'Fossil Gas'),\n",
       " ('Hard coal-1', 'Nuclear'),\n",
       " ('Hard coal-1', 'Emission'),\n",
       " ('Hard coal-1', 'W. Onshore-1'),\n",
       " ('Hard coal-1', 'Lignite-1'),\n",
       " ('Hard coal-1', 'W. Offshore'),\n",
       " ('Hard coal-1', 'Lignite'),\n",
       " ('Fossil Gas', 'Emission'),\n",
       " ('Fossil Gas', 'Lignite-1'),\n",
       " ('W. Onshore-1', 'Lignite'),\n",
       " ('Fossil Gas-1', 'Nuclear-1'),\n",
       " ('Nuclear', 'Hard coal'),\n",
       " ('Nuclear', 'W. Onshore'),\n",
       " ('Nuclear-1', 'Hard coal-1'),\n",
       " ('Nuclear-1', 'Fossil Gas'),\n",
       " ('Solar', 'Hard coal-1'),\n",
       " ('Solar', 'W. Offshore-1'),\n",
       " ('Solar', 'Emission'),\n",
       " ('Solar', 'Nuclear'),\n",
       " ('Solar', 'Lignite')]"
      ]
     },
     "execution_count": 70,
     "metadata": {},
     "output_type": "execute_result"
    }
   ],
   "source": [
    "best_model"
   ]
  },
  {
   "cell_type": "code",
   "execution_count": 74,
   "id": "5621d23f",
   "metadata": {
    "ExecuteTime": {
     "end_time": "2022-09-02T03:25:41.953642Z",
     "start_time": "2022-09-02T03:25:41.949652Z"
    }
   },
   "outputs": [],
   "source": [
    "edges_possibilities = []\n",
    "edges_frequency = []\n",
    "best_model = blanket(best_model, 'Emission')"
   ]
  },
  {
   "cell_type": "code",
   "execution_count": 75,
   "id": "913d7757",
   "metadata": {
    "ExecuteTime": {
     "end_time": "2022-09-02T03:25:42.706215Z",
     "start_time": "2022-09-02T03:25:42.702225Z"
    }
   },
   "outputs": [],
   "source": [
    "edges_possibilities, edges_frequency = update_edges_frequencies(best_model, edges_possibilities, edges_frequency)"
   ]
  },
  {
   "cell_type": "code",
   "execution_count": 76,
   "id": "7ae6d6c9",
   "metadata": {
    "ExecuteTime": {
     "end_time": "2022-09-02T03:25:52.504493Z",
     "start_time": "2022-09-02T03:25:52.497512Z"
    }
   },
   "outputs": [
    {
     "data": {
      "text/plain": [
       "[('Emission', 'Lignite'),\n",
       " ('Emission', 'W. Offshore-1'),\n",
       " ('Hard coal-1', 'Emission'),\n",
       " ('Fossil Gas', 'Emission'),\n",
       " ('Solar', 'Emission'),\n",
       " ('Hard coal-1', 'Lignite'),\n",
       " ('W. Onshore-1', 'Lignite'),\n",
       " ('Solar', 'W. Offshore-1'),\n",
       " ('Solar', 'Lignite')]"
      ]
     },
     "execution_count": 76,
     "metadata": {},
     "output_type": "execute_result"
    }
   ],
   "source": [
    "edges_possibilities"
   ]
  },
  {
   "cell_type": "code",
   "execution_count": 77,
   "id": "70d6adb1",
   "metadata": {
    "ExecuteTime": {
     "end_time": "2022-09-02T03:26:03.485497Z",
     "start_time": "2022-09-02T03:26:03.479513Z"
    }
   },
   "outputs": [
    {
     "data": {
      "text/plain": [
       "[1, 1, 1, 1, 1, 1, 1, 1, 1]"
      ]
     },
     "execution_count": 77,
     "metadata": {},
     "output_type": "execute_result"
    }
   ],
   "source": [
    "edges_frequency"
   ]
  },
  {
   "cell_type": "code",
   "execution_count": 86,
   "id": "82c5658b",
   "metadata": {
    "ExecuteTime": {
     "end_time": "2022-09-02T03:29:32.220889Z",
     "start_time": "2022-09-02T03:29:32.214905Z"
    }
   },
   "outputs": [],
   "source": [
    "best_model = [('Emission', 'Lignite'),\n",
    " ('Emission', 'W. Offshore-1'),\n",
    " ('Hard coal-1', 'Emission'),\n",
    " ('Fossil Gas', 'Emission'),\n",
    " ('Solar', 'Emission'),\n",
    " ('Hard coal-1', 'Lignite'),\n",
    " ('W. Onshore-1', 'Lignite'),\n",
    " ('Solar', 'W. Offshore-1'),\n",
    " ('Solar', 'Lignite'), ('k','k2'), ('t1','t3')]"
   ]
  },
  {
   "cell_type": "code",
   "execution_count": 88,
   "id": "cbe69094",
   "metadata": {
    "ExecuteTime": {
     "end_time": "2022-09-02T03:29:38.497626Z",
     "start_time": "2022-09-02T03:29:38.491604Z"
    }
   },
   "outputs": [
    {
     "data": {
      "text/plain": [
       "[('Emission', 'Lignite'),\n",
       " ('Emission', 'W. Offshore-1'),\n",
       " ('Hard coal-1', 'Emission'),\n",
       " ('Fossil Gas', 'Emission'),\n",
       " ('Solar', 'Emission'),\n",
       " ('Hard coal-1', 'Lignite'),\n",
       " ('W. Onshore-1', 'Lignite'),\n",
       " ('Solar', 'W. Offshore-1'),\n",
       " ('Solar', 'Lignite'),\n",
       " ('k', 'k2'),\n",
       " ('t1', 't3')]"
      ]
     },
     "execution_count": 88,
     "metadata": {},
     "output_type": "execute_result"
    }
   ],
   "source": [
    "edges_possibilities"
   ]
  },
  {
   "cell_type": "code",
   "execution_count": 89,
   "id": "f3bf31de",
   "metadata": {
    "ExecuteTime": {
     "end_time": "2022-09-02T03:29:40.952540Z",
     "start_time": "2022-09-02T03:29:40.947553Z"
    }
   },
   "outputs": [
    {
     "data": {
      "text/plain": [
       "[4, 4, 4, 4, 4, 4, 4, 4, 4, 3, 1]"
      ]
     },
     "execution_count": 89,
     "metadata": {},
     "output_type": "execute_result"
    }
   ],
   "source": [
    "edges_frequency"
   ]
  },
  {
   "cell_type": "code",
   "execution_count": 87,
   "id": "7c3977ac",
   "metadata": {
    "ExecuteTime": {
     "end_time": "2022-09-02T03:29:35.970431Z",
     "start_time": "2022-09-02T03:29:35.967462Z"
    }
   },
   "outputs": [],
   "source": [
    "edges_possibilities, edges_frequency = update_edges_frequencies(best_model, edges_possibilities, edges_frequency)"
   ]
  },
  {
   "cell_type": "code",
   "execution_count": 14,
   "id": "e2032d6c",
   "metadata": {
    "ExecuteTime": {
     "end_time": "2022-09-02T01:37:30.849429Z",
     "start_time": "2022-09-02T01:37:30.704121Z"
    }
   },
   "outputs": [
    {
     "data": {
      "text/html": [
       "<div>\n",
       "<style scoped>\n",
       "    .dataframe tbody tr th:only-of-type {\n",
       "        vertical-align: middle;\n",
       "    }\n",
       "\n",
       "    .dataframe tbody tr th {\n",
       "        vertical-align: top;\n",
       "    }\n",
       "\n",
       "    .dataframe thead th {\n",
       "        text-align: right;\n",
       "    }\n",
       "</style>\n",
       "<table border=\"1\" class=\"dataframe\">\n",
       "  <thead>\n",
       "    <tr style=\"text-align: right;\">\n",
       "      <th></th>\n",
       "      <th>Date</th>\n",
       "    </tr>\n",
       "  </thead>\n",
       "  <tbody>\n",
       "    <tr>\n",
       "      <th>0</th>\n",
       "      <td>2019-01-01</td>\n",
       "    </tr>\n",
       "    <tr>\n",
       "      <th>1</th>\n",
       "      <td>2019-01-02</td>\n",
       "    </tr>\n",
       "    <tr>\n",
       "      <th>2</th>\n",
       "      <td>2019-01-03</td>\n",
       "    </tr>\n",
       "    <tr>\n",
       "      <th>3</th>\n",
       "      <td>2019-01-04</td>\n",
       "    </tr>\n",
       "    <tr>\n",
       "      <th>4</th>\n",
       "      <td>2019-01-05</td>\n",
       "    </tr>\n",
       "  </tbody>\n",
       "</table>\n",
       "</div>"
      ],
      "text/plain": [
       "        Date\n",
       "0 2019-01-01\n",
       "1 2019-01-02\n",
       "2 2019-01-03\n",
       "3 2019-01-04\n",
       "4 2019-01-05"
      ]
     },
     "execution_count": 14,
     "metadata": {},
     "output_type": "execute_result"
    }
   ],
   "source": [
    "q = '''select distinct \"Date\" from pre_processed_data.dbn_features_selected_alemanha order by \"Date\"'''\n",
    "conn = open_connection()\n",
    "date = pd.read_sql(q,conn)\n",
    "conn.close()\n",
    "date['Date'] = date['Date']+timedelta(days = 0)\n",
    "date.head()"
   ]
  },
  {
   "cell_type": "code",
   "execution_count": 15,
   "id": "4740de19",
   "metadata": {
    "ExecuteTime": {
     "end_time": "2022-09-02T01:38:39.828444Z",
     "start_time": "2022-09-02T01:38:39.821462Z"
    }
   },
   "outputs": [
    {
     "data": {
      "text/plain": [
       "Timestamp('2019-01-08 00:00:00')"
      ]
     },
     "execution_count": 15,
     "metadata": {},
     "output_type": "execute_result"
    }
   ],
   "source": [
    "date['Date'][7]"
   ]
  },
  {
   "cell_type": "code",
   "execution_count": 12,
   "id": "d1d3ca6d",
   "metadata": {
    "ExecuteTime": {
     "end_time": "2022-09-02T01:36:42.884062Z",
     "start_time": "2022-09-02T01:36:42.875088Z"
    }
   },
   "outputs": [
    {
     "data": {
      "text/plain": [
       "0      2019-01-01\n",
       "1      2019-01-02\n",
       "2      2019-01-03\n",
       "3      2019-01-04\n",
       "4      2019-01-05\n",
       "          ...    \n",
       "1086   2021-12-26\n",
       "1087   2021-12-27\n",
       "1088   2021-12-28\n",
       "1089   2021-12-29\n",
       "1090   2021-12-30\n",
       "Name: Date, Length: 1091, dtype: datetime64[ns]"
      ]
     },
     "execution_count": 12,
     "metadata": {},
     "output_type": "execute_result"
    }
   ],
   "source": [
    "date['Date']+timedelta(days = 0)"
   ]
  },
  {
   "cell_type": "code",
   "execution_count": null,
   "id": "c2d0de4a",
   "metadata": {},
   "outputs": [],
   "source": []
  }
 ],
 "metadata": {
  "kernelspec": {
   "display_name": "Python 3",
   "language": "python",
   "name": "python3"
  },
  "language_info": {
   "codemirror_mode": {
    "name": "ipython",
    "version": 3
   },
   "file_extension": ".py",
   "mimetype": "text/x-python",
   "name": "python",
   "nbconvert_exporter": "python",
   "pygments_lexer": "ipython3",
   "version": "3.7.11"
  }
 },
 "nbformat": 4,
 "nbformat_minor": 5
}
