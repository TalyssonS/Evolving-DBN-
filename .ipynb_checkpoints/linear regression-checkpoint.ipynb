{
 "cells": [
  {
   "cell_type": "code",
   "execution_count": 1,
   "id": "3c48cbf7",
   "metadata": {
    "ExecuteTime": {
     "end_time": "2022-11-13T20:06:24.881742Z",
     "start_time": "2022-11-13T20:06:18.806097Z"
    }
   },
   "outputs": [],
   "source": [
    "from datetime import datetime, timedelta\n",
    "import jupyter_contrib_nbextensions\n",
    "import random\n",
    "import warnings\n",
    "import sys \n",
    "import logging\n",
    "import pandas as pd\n",
    "import time\n",
    "import numpy as np\n",
    "import pickle\n",
    "from tqdm import tqdm\n",
    "import psycopg2 as pg\n",
    "import sqlalchemy as sq\n",
    "import networkx as nx\n",
    "logging.disable()\n",
    "if not sys.warnoptions:\n",
    "    warnings.simplefilter(\"ignore\")\n",
    "from sklearn.metrics import mean_squared_error\n",
    "from sklearn.metrics import mean_absolute_error\n",
    "from sklearn.metrics import median_absolute_error\n",
    "import matplotlib.pyplot as plt\n",
    "from sklearn.ensemble import RandomForestClassifier\n",
    "from sklearn.neural_network import MLPClassifier\n",
    "from sklearn.linear_model import LinearRegression\n",
    "from sklearn.ensemble import GradientBoostingClassifier\n",
    "\n",
    "def errorf (real,forecast):\n",
    "    error=[]\n",
    "    for i in range(len(real)):\n",
    "        error.append(real[i]-forecast[i])\n",
    "    return error\n",
    "\n",
    "def open_connection():\n",
    "    '''\n",
    "    FUNCTION TO CONNECT TO THE POSTGRESQL DATABASE\n",
    "    '''\n",
    "    conn = pg.connect(dbname='postgres', user = 'postgres', password = 123, host = 'localhost')\n",
    "    return conn\n",
    "def get_connection():\n",
    "    '''\n",
    "    FUNCTION TO CONNECT TO THE POSTGRESQL DATABASE AND RETURN THE SQLACHEMY ENGINE OBJECT\n",
    "    -----------\n",
    "    output: object\n",
    "        SQLACHEMY ENGINE OBJECT - POSTGRESQL DATABASE CONNECTION\n",
    "    '''\n",
    "    user = 'postgres'\n",
    "    password = 123\n",
    "    host = 'localhost'\n",
    "    port = 5432\n",
    "    database = 'postgres'\n",
    "    return sq.create_engine(url=\"postgresql://{0}:{1}@{2}:{3}/{4}\".format(user, password, host, port, database))\n",
    "\n",
    "\n",
    "def get_all_dates(pais):\n",
    "    q = '''select distinct cast(\"Date\" as DATE) as datas from pre_processed_data.dbn_features_selected_{pais} order by datas'''.format(pais=pais)\n",
    "    conn = open_connection()\n",
    "    date = pd.read_sql(q,conn)\n",
    "    conn.close()\n",
    "    datas = date['datas'].tolist()\n",
    "    return datas\n",
    "\n",
    "def get_dataset(pais,date_ini, date_fin):\n",
    "    q = '''select * \n",
    "    from pre_processed_data.dbn_features_selected_{pais} where \"Date\" between '{date_ini}' and '{date_fin}' '''.format(pais=pais,date_ini=date_ini,date_fin=date_fin)\n",
    "    conn = open_connection()\n",
    "    dataset = pd.read_sql(q,conn)\n",
    "    conn.close()\n",
    "    return dataset\n",
    "\n",
    "def get_dataset_allfeatures(pais,date_ini, date_fin):\n",
    "    q = '''select * \n",
    "    from pre_processed_data.dbn_{pais} where \"Date\" between '{date_ini}' and '{date_fin}' '''.format(pais=pais,date_ini=date_ini,date_fin=date_fin)\n",
    "    conn = open_connection()\n",
    "    dataset = pd.read_sql(q,conn)\n",
    "    conn.close()\n",
    "    return dataset\n",
    "\n",
    "\n",
    "def bins_values(pais):\n",
    "    q = '''select \"Emission\" from pre_processed_data.bins_{pais} where \"Emission\" is not null'''.format(pais = pais)\n",
    "    conn = open_connection()\n",
    "    df = pd.read_sql(q,conn)\n",
    "    conn.close()\n",
    "    return df\n",
    "\n",
    "def real_values(pais, data):\n",
    "    q = '''select \"Emission\" from pre_processed_data.{pais} where \"Date\" = '{dataf}' '''.format(pais = pais, dataf = (data+timedelta(days = 1)).strftime(\"%Y/%m/%d\"))\n",
    "    conn = open_connection()\n",
    "    df = pd.read_sql(q,conn)\n",
    "    conn.close()\n",
    "    return df"
   ]
  },
  {
   "cell_type": "code",
   "execution_count": 16,
   "id": "3d70ebe3",
   "metadata": {
    "ExecuteTime": {
     "end_time": "2022-11-14T00:45:04.339851Z",
     "start_time": "2022-11-13T20:54:07.895616Z"
    }
   },
   "outputs": [
    {
     "name": "stderr",
     "output_type": "stream",
     "text": [
      "100%|████████████████████████████████████████████████████████████████████████████| 1091/1091 [1:07:49<00:00,  3.73s/it]\n",
      "100%|██████████████████████████████████████████████████████████████████████████████| 1080/1080 [54:07<00:00,  3.01s/it]\n",
      "100%|██████████████████████████████████████████████████████████████████████████████| 1089/1089 [54:31<00:00,  3.00s/it]\n",
      "100%|██████████████████████████████████████████████████████████████████████████████| 1090/1090 [54:26<00:00,  3.00s/it]\n"
     ]
    }
   ],
   "source": [
    "paises = ['Alemanha','Belgica','Espanha', 'Portugal']\n",
    "for pais in paises:\n",
    "    #initialize auxiliary variables\n",
    "    k=1 #total days used\n",
    "    target_variable = 'Emission'\n",
    "    #ln\n",
    "    timeinferenceln = []\n",
    "    forecast_valuesln = pd.DataFrame()\n",
    "\n",
    "    #read all available dates\n",
    "    dates = get_all_dates(pais)\n",
    "\n",
    "    for i in tqdm(dates):\n",
    "        if i >= dates[6] and i+timedelta(days = 1) in dates:\n",
    "            #bins\n",
    "            bins = bins_values(pais)\n",
    "\n",
    "            #fit dataset (last 7 days)\n",
    "            fit_data = get_dataset(pais,i-timedelta(days = 6), i)\n",
    "            fit_dataall = get_dataset_allfeatures(pais,i-timedelta(days = 6), i)\n",
    "\n",
    "            #predict data of the entire day\n",
    "            predict_data_day = get_dataset(pais,i+timedelta(days = 1), i+timedelta(days = 1))\n",
    "            predict_dataall = get_dataset_allfeatures(pais,i+timedelta(days = 1), i+timedelta(days = 1))\n",
    "\n",
    "            #aux\n",
    "            aux_foreln = []\n",
    "            #dataset to save de forecast values\n",
    "            forecast_auxln = pd.DataFrame()\n",
    "            forecast_date = []\n",
    "            forecast_hour = []\n",
    "\n",
    "            #predict each point of day i+1\n",
    "            ti_inf = time.time()\n",
    "            for h in range(len(predict_data_day)):\n",
    "                forecast_date.append(i+timedelta(days = 1))\n",
    "                forecast_hour.append(h)\n",
    "                predict_data = predict_data_day.iloc[[h]]\n",
    "                predictall = predict_dataall.iloc[[h]]\n",
    "                fit_datah = fit_data.loc[0:len(fit_data)-3+h] #tau = 3 (forecast horizon)\n",
    "\n",
    "                #drop all variable in time window T+1 (unknown values - future states)\n",
    "                predict_data.drop(['Date', 'Hour'], axis = 1, inplace = True)\n",
    "                for c in predict_data.columns:\n",
    "                    if '-1' not in c:\n",
    "                        predict_data[c] = predictall[c+str('-1')]\n",
    "                del predict_data[target_variable]\n",
    "\n",
    "                #ln model\n",
    "                X = fit_datah.copy()\n",
    "                y = fit_datah[[target_variable]]\n",
    "                cvln = []\n",
    "                for v in y[target_variable]:\n",
    "                    cvln.append((bins[target_variable][v]+bins[target_variable][v+1])/2)\n",
    "                y[target_variable] = cvln\n",
    "                X.drop([target_variable,'Date', 'Hour'], axis = 1, inplace = True)\n",
    "                clf = LinearRegression().fit(X, y)\n",
    "                ln_predict = clf.predict(predict_data)\n",
    "                    \n",
    "                for v in ln_predict[0]:\n",
    "                    aux_foreln.append(v)\n",
    "                fit_data = fit_data.append(predict_data_day.loc[h-3:h-3]).reset_index(drop = True) \n",
    "\n",
    "            forecast_auxln['Date'] = forecast_date\n",
    "            forecast_auxln['Hour'] = forecast_hour\n",
    "            forecast_auxln['Emissions Forecast'] = aux_foreln\n",
    "            real_value = real_values(pais, i)\n",
    "            forecast_auxln[target_variable] = real_value[target_variable]\n",
    "            forecast_valuesln = forecast_valuesln.append(forecast_auxln)\n",
    "            tf_inf = time.time()\n",
    "            timeinferenceln.append(tf_inf-ti_inf)\n",
    "        #save the results on postgres\n",
    "        df_time_inferenceln = pd.DataFrame()\n",
    "        df_time_inferenceln['tempo'] = timeinferenceln\n",
    "        df_time_inferenceln.to_sql(name='time_inference_'+str(pais)+str('ln'), con = get_connection(),schema = 'results', if_exists = 'replace', chunksize = None, index = False)\n",
    "        forecast_valuesln.to_sql(name='forecast_'+str(pais)+str('ln'), con = get_connection(),schema = 'results', if_exists = 'replace', chunksize = None, index = False)"
   ]
  },
  {
   "cell_type": "code",
   "execution_count": 21,
   "id": "723d3680",
   "metadata": {
    "ExecuteTime": {
     "end_time": "2022-11-14T05:06:12.453257Z",
     "start_time": "2022-11-14T05:06:12.134844Z"
    }
   },
   "outputs": [
    {
     "data": {
      "text/plain": [
       "23.064854938766928"
      ]
     },
     "execution_count": 21,
     "metadata": {},
     "output_type": "execute_result"
    }
   ],
   "source": [
    "q = '''select * \n",
    "from results.\"forecast_Alemanhaln\" fa '''\n",
    "conn = open_connection()\n",
    "dataset = pd.read_sql(q,conn)\n",
    "conn.close()\n",
    "median_absolute_error(dataset['Emission'],dataset['Emissions Forecast'])"
   ]
  },
  {
   "cell_type": "code",
   "execution_count": 22,
   "id": "a946700a",
   "metadata": {
    "ExecuteTime": {
     "end_time": "2022-11-14T05:06:27.690884Z",
     "start_time": "2022-11-14T05:06:27.369240Z"
    }
   },
   "outputs": [
    {
     "data": {
      "text/plain": [
       "24.985586403735482"
      ]
     },
     "execution_count": 22,
     "metadata": {},
     "output_type": "execute_result"
    }
   ],
   "source": [
    "q = '''select * \n",
    "from results.\"forecast_Alemanharf\" fa '''\n",
    "conn = open_connection()\n",
    "dataset = pd.read_sql(q,conn)\n",
    "conn.close()\n",
    "median_absolute_error(dataset['Emission'],dataset['Emissions Forecast'])"
   ]
  },
  {
   "cell_type": "code",
   "execution_count": 23,
   "id": "a5ef306c",
   "metadata": {
    "ExecuteTime": {
     "end_time": "2022-11-14T05:06:44.467080Z",
     "start_time": "2022-11-14T05:06:44.087292Z"
    }
   },
   "outputs": [
    {
     "data": {
      "text/plain": [
       "26.016727965185993"
      ]
     },
     "execution_count": 23,
     "metadata": {},
     "output_type": "execute_result"
    }
   ],
   "source": [
    "q = '''select * \n",
    "from results.\"forecast_Alemanhaann\" fa '''\n",
    "conn = open_connection()\n",
    "dataset = pd.read_sql(q,conn)\n",
    "conn.close()\n",
    "median_absolute_error(dataset['Emission'],dataset['Emissions Forecast'])"
   ]
  },
  {
   "cell_type": "code",
   "execution_count": 24,
   "id": "bc72d6ff",
   "metadata": {
    "ExecuteTime": {
     "end_time": "2022-11-14T05:06:59.842341Z",
     "start_time": "2022-11-14T05:06:59.470321Z"
    }
   },
   "outputs": [
    {
     "data": {
      "text/plain": [
       "44.29539922566826"
      ]
     },
     "execution_count": 24,
     "metadata": {},
     "output_type": "execute_result"
    }
   ],
   "source": [
    "q = '''select * \n",
    "from results.forecast_alemanha fa '''\n",
    "conn = open_connection()\n",
    "dataset = pd.read_sql(q,conn)\n",
    "conn.close()\n",
    "median_absolute_error(dataset['Emission'],dataset['Emissions Forecast'])"
   ]
  },
  {
   "cell_type": "code",
   "execution_count": 37,
   "id": "91dc3cc5",
   "metadata": {
    "ExecuteTime": {
     "end_time": "2022-11-13T18:04:50.964672Z",
     "start_time": "2022-11-13T18:04:50.955695Z"
    }
   },
   "outputs": [
    {
     "data": {
      "text/plain": [
       "14"
      ]
     },
     "execution_count": 37,
     "metadata": {},
     "output_type": "execute_result"
    }
   ],
   "source": [
    "reg = LinearRegression().fit(X, y)\n",
    "teste = reg.predict(predict_data)\n",
    "int(teste)"
   ]
  },
  {
   "cell_type": "code",
   "execution_count": 14,
   "id": "c0a5de11",
   "metadata": {
    "ExecuteTime": {
     "end_time": "2022-11-13T20:50:05.496758Z",
     "start_time": "2022-11-13T20:50:05.483934Z"
    }
   },
   "outputs": [
    {
     "name": "stdout",
     "output_type": "stream",
     "text": [
      "184.2387140128314\n"
     ]
    }
   ],
   "source": [
    "for i in ln_predict[0]:\n",
    "    print(i)"
   ]
  },
  {
   "cell_type": "code",
   "execution_count": 6,
   "id": "f95a007d",
   "metadata": {
    "ExecuteTime": {
     "end_time": "2022-11-13T20:43:27.669724Z",
     "start_time": "2022-11-13T20:43:27.639744Z"
    }
   },
   "outputs": [
    {
     "data": {
      "text/html": [
       "<div>\n",
       "<style scoped>\n",
       "    .dataframe tbody tr th:only-of-type {\n",
       "        vertical-align: middle;\n",
       "    }\n",
       "\n",
       "    .dataframe tbody tr th {\n",
       "        vertical-align: top;\n",
       "    }\n",
       "\n",
       "    .dataframe thead th {\n",
       "        text-align: right;\n",
       "    }\n",
       "</style>\n",
       "<table border=\"1\" class=\"dataframe\">\n",
       "  <thead>\n",
       "    <tr style=\"text-align: right;\">\n",
       "      <th></th>\n",
       "      <th>Emission-1</th>\n",
       "      <th>Lignite</th>\n",
       "      <th>Lignite-1</th>\n",
       "      <th>Hard coal</th>\n",
       "      <th>Hard coal-1</th>\n",
       "      <th>W. Onshore</th>\n",
       "      <th>Fossil Gas</th>\n",
       "      <th>W. Onshore-1</th>\n",
       "      <th>Fossil Gas-1</th>\n",
       "      <th>Nuclear</th>\n",
       "      <th>Nuclear-1</th>\n",
       "      <th>Solar</th>\n",
       "      <th>W. Offshore</th>\n",
       "      <th>W. Offshore-1</th>\n",
       "    </tr>\n",
       "  </thead>\n",
       "  <tbody>\n",
       "    <tr>\n",
       "      <th>23</th>\n",
       "      <td>7</td>\n",
       "      <td>13</td>\n",
       "      <td>13</td>\n",
       "      <td>9</td>\n",
       "      <td>9</td>\n",
       "      <td>33</td>\n",
       "      <td>11</td>\n",
       "      <td>33</td>\n",
       "      <td>11</td>\n",
       "      <td>33</td>\n",
       "      <td>33</td>\n",
       "      <td>0</td>\n",
       "      <td>18</td>\n",
       "      <td>18</td>\n",
       "    </tr>\n",
       "  </tbody>\n",
       "</table>\n",
       "</div>"
      ],
      "text/plain": [
       "    Emission-1  Lignite  Lignite-1  Hard coal  Hard coal-1  W. Onshore  \\\n",
       "23           7       13         13          9            9          33   \n",
       "\n",
       "    Fossil Gas  W. Onshore-1  Fossil Gas-1  Nuclear  Nuclear-1  Solar  \\\n",
       "23          11            33            11       33         33      0   \n",
       "\n",
       "    W. Offshore  W. Offshore-1  \n",
       "23           18             18  "
      ]
     },
     "execution_count": 6,
     "metadata": {},
     "output_type": "execute_result"
    }
   ],
   "source": [
    "predict_data"
   ]
  },
  {
   "cell_type": "code",
   "execution_count": 9,
   "id": "ded0fdf0",
   "metadata": {
    "ExecuteTime": {
     "end_time": "2022-11-13T20:48:25.478837Z",
     "start_time": "2022-11-13T20:48:25.450992Z"
    }
   },
   "outputs": [
    {
     "data": {
      "text/plain": [
       "[204.48080529667115,\n",
       " 177.66634897048567,\n",
       " 177.66634897048567,\n",
       " 177.66634897048567,\n",
       " 164.25912080739295,\n",
       " 164.25912080739295,\n",
       " 150.8518926443002,\n",
       " 150.8518926443002,\n",
       " 150.8518926443002,\n",
       " 150.8518926443002,\n",
       " 150.8518926443002,\n",
       " 150.8518926443002,\n",
       " 150.8518926443002,\n",
       " 150.8518926443002,\n",
       " 150.8518926443002,\n",
       " 150.8518926443002,\n",
       " 137.44466448120744,\n",
       " 137.44466448120744,\n",
       " 137.44466448120744,\n",
       " 137.44466448120744,\n",
       " 137.44466448120744,\n",
       " 150.8518926443002,\n",
       " 150.8518926443002,\n",
       " 150.8518926443002,\n",
       " 150.8518926443002,\n",
       " 150.8518926443002,\n",
       " 150.8518926443002,\n",
       " 164.25912080739295,\n",
       " 164.25912080739295,\n",
       " 164.25912080739295,\n",
       " 164.25912080739295,\n",
       " 177.66634897048567,\n",
       " 191.07357713357842,\n",
       " 217.8880334597639,\n",
       " 217.8880334597639,\n",
       " 204.48080529667115,\n",
       " 204.48080529667115,\n",
       " 204.48080529667115,\n",
       " 231.29526162285663,\n",
       " 258.10971794904214,\n",
       " 284.92417427522764,\n",
       " 298.33140243832037,\n",
       " 311.7386306014131,\n",
       " 325.1458587645059,\n",
       " 338.5530869275986,\n",
       " 338.5530869275986,\n",
       " 351.9603150906913,\n",
       " 338.5530869275986,\n",
       " 338.5530869275986,\n",
       " 351.9603150906913,\n",
       " 351.9603150906913,\n",
       " 351.9603150906913,\n",
       " 338.5530869275986,\n",
       " 351.9603150906913,\n",
       " 365.36754325378405,\n",
       " 365.36754325378405,\n",
       " 365.36754325378405,\n",
       " 378.77477141687683,\n",
       " 392.18199957996956,\n",
       " 392.18199957996956,\n",
       " 405.5892277430623,\n",
       " 418.99645590615506,\n",
       " 418.99645590615506,\n",
       " 432.4036840692478,\n",
       " 432.4036840692478,\n",
       " 418.99645590615506,\n",
       " 405.5892277430623,\n",
       " 418.99645590615506,\n",
       " 418.99645590615506,\n",
       " 432.4036840692478,\n",
       " 432.4036840692478,\n",
       " 432.4036840692478,\n",
       " 432.4036840692478,\n",
       " 418.99645590615506,\n",
       " 405.5892277430623,\n",
       " 392.18199957996956,\n",
       " 365.36754325378405,\n",
       " 365.36754325378405,\n",
       " 351.9603150906913,\n",
       " 338.5530869275986,\n",
       " 338.5530869275986,\n",
       " 338.5530869275986,\n",
       " 325.1458587645059,\n",
       " 325.1458587645059,\n",
       " 311.7386306014131,\n",
       " 311.7386306014131,\n",
       " 311.7386306014131,\n",
       " 311.7386306014131,\n",
       " 311.7386306014131,\n",
       " 311.7386306014131,\n",
       " 311.7386306014131,\n",
       " 311.7386306014131,\n",
       " 298.33140243832037,\n",
       " 284.92417427522764,\n",
       " 284.92417427522764,\n",
       " 258.10971794904214,\n",
       " 231.29526162285663,\n",
       " 217.8880334597639,\n",
       " 217.8880334597639,\n",
       " 204.48080529667115,\n",
       " 204.48080529667115,\n",
       " 204.48080529667115,\n",
       " 217.8880334597639,\n",
       " 231.29526162285663,\n",
       " 258.10971794904214,\n",
       " 271.51694611213486,\n",
       " 284.92417427522764,\n",
       " 298.33140243832037,\n",
       " 311.7386306014131,\n",
       " 311.7386306014131,\n",
       " 325.1458587645059,\n",
       " 325.1458587645059,\n",
       " 325.1458587645059,\n",
       " 325.1458587645059,\n",
       " 338.5530869275986,\n",
       " 338.5530869275986,\n",
       " 338.5530869275986,\n",
       " 325.1458587645059,\n",
       " 338.5530869275986,\n",
       " 325.1458587645059,\n",
       " 325.1458587645059,\n",
       " 338.5530869275986,\n",
       " 351.9603150906913,\n",
       " 351.9603150906913,\n",
       " 351.9603150906913,\n",
       " 365.36754325378405,\n",
       " 365.36754325378405,\n",
       " 392.18199957996956,\n",
       " 405.5892277430623,\n",
       " 405.5892277430623,\n",
       " 418.99645590615506,\n",
       " 418.99645590615506,\n",
       " 418.99645590615506,\n",
       " 418.99645590615506,\n",
       " 418.99645590615506,\n",
       " 432.4036840692478,\n",
       " 432.4036840692478,\n",
       " 405.5892277430623,\n",
       " 405.5892277430623,\n",
       " 405.5892277430623,\n",
       " 418.99645590615506,\n",
       " 418.99645590615506,\n",
       " 418.99645590615506,\n",
       " 418.99645590615506,\n",
       " 405.5892277430623,\n",
       " 405.5892277430623,\n",
       " 405.5892277430623,\n",
       " 405.5892277430623,\n",
       " 405.5892277430623,\n",
       " 405.5892277430623,\n",
       " 418.99645590615506,\n",
       " 418.99645590615506,\n",
       " 418.99645590615506,\n",
       " 418.99645590615506,\n",
       " 418.99645590615506,\n",
       " 405.5892277430623,\n",
       " 392.18199957996956,\n",
       " 392.18199957996956,\n",
       " 378.77477141687683,\n",
       " 378.77477141687683,\n",
       " 365.36754325378405,\n",
       " 351.9603150906913,\n",
       " 338.5530869275986,\n",
       " 298.33140243832037,\n",
       " 244.7024897859494,\n",
       " 217.8880334597639,\n",
       " 204.48080529667115,\n",
       " 191.07357713357842,\n",
       " 177.66634897048567,\n",
       " 164.25912080739295,\n",
       " 164.25912080739295,\n",
       " 164.25912080739295,\n",
       " 177.66634897048567,\n",
       " 177.66634897048567,\n",
       " 191.07357713357842,\n",
       " 204.48080529667115,\n",
       " 217.8880334597639,\n",
       " 204.48080529667115,\n",
       " 204.48080529667115,\n",
       " 204.48080529667115,\n",
       " 191.07357713357842,\n",
       " 191.07357713357842,\n",
       " 191.07357713357842,\n",
       " 204.48080529667115,\n",
       " 204.48080529667115,\n",
       " 204.48080529667115,\n",
       " 204.48080529667115,\n",
       " 191.07357713357842]"
      ]
     },
     "execution_count": 9,
     "metadata": {},
     "output_type": "execute_result"
    }
   ],
   "source": [
    "cvln"
   ]
  },
  {
   "cell_type": "code",
   "execution_count": null,
   "id": "8ca3847f",
   "metadata": {},
   "outputs": [],
   "source": []
  }
 ],
 "metadata": {
  "kernelspec": {
   "display_name": "Python 3",
   "language": "python",
   "name": "python3"
  },
  "language_info": {
   "codemirror_mode": {
    "name": "ipython",
    "version": 3
   },
   "file_extension": ".py",
   "mimetype": "text/x-python",
   "name": "python",
   "nbconvert_exporter": "python",
   "pygments_lexer": "ipython3",
   "version": "3.7.11"
  }
 },
 "nbformat": 4,
 "nbformat_minor": 5
}
